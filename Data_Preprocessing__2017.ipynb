{
  "nbformat": 4,
  "nbformat_minor": 0,
  "metadata": {
    "colab": {
      "provenance": [],
      "authorship_tag": "ABX9TyOCcQjsAbW7LQjNH3v1N0p8",
      "include_colab_link": true
    },
    "kernelspec": {
      "name": "python3",
      "display_name": "Python 3"
    },
    "language_info": {
      "name": "python"
    }
  },
  "cells": [
    {
      "cell_type": "markdown",
      "metadata": {
        "id": "view-in-github",
        "colab_type": "text"
      },
      "source": [
        "<a href=\"https://colab.research.google.com/github/Shreya2803/Bengali-Language-Model/blob/main/Data_Preprocessing__2017.ipynb\" target=\"_parent\"><img src=\"https://colab.research.google.com/assets/colab-badge.svg\" alt=\"Open In Colab\"/></a>"
      ]
    },
    {
      "cell_type": "markdown",
      "source": [
        "We already have movies up to 2016 in Data_preprocessing_1 file, so we will only get 2017 movies."
      ],
      "metadata": {
        "id": "HrTEkGuA-oPQ"
      }
    },
    {
      "cell_type": "markdown",
      "source": [
        "**Import Gdrive**"
      ],
      "metadata": {
        "id": "gdVg366j2Esl"
      }
    },
    {
      "cell_type": "code",
      "execution_count": null,
      "metadata": {
        "colab": {
          "base_uri": "https://localhost:8080/"
        },
        "id": "798pEHC41J7D",
        "outputId": "6fbf8086-40ad-4d2d-9e87-8d940174d77a"
      },
      "outputs": [
        {
          "output_type": "stream",
          "name": "stdout",
          "text": [
            "Drive already mounted at /content/drive; to attempt to forcibly remount, call drive.mount(\"/content/drive\", force_remount=True).\n"
          ]
        }
      ],
      "source": [
        "from google.colab import drive\n",
        "drive.mount('/content/drive')"
      ]
    },
    {
      "cell_type": "markdown",
      "source": [
        "**Importing all the essential Python Libraries**"
      ],
      "metadata": {
        "id": "Zz69Ht-Q2T_P"
      }
    },
    {
      "cell_type": "code",
      "source": [
        "#(pandas)to read CSV file\n",
        "import pandas as pd\n",
        "#(Numpy)Linear algebra\n",
        "import numpy as np\n",
        "import os"
      ],
      "metadata": {
        "id": "Lf9NmFM72VYP"
      },
      "execution_count": null,
      "outputs": []
    },
    {
      "cell_type": "markdown",
      "source": [
        "**Loading the dataset into Pandas Dataframe**"
      ],
      "metadata": {
        "id": "orFUMjwH2fgJ"
      }
    },
    {
      "cell_type": "code",
      "source": [
        "credits = pd.read_csv('/content/drive/MyDrive/Dataset/credits.csv')\n",
        "movie_metadata = pd.read_csv('/content/drive/MyDrive/Dataset/movies_metadata.csv')"
      ],
      "metadata": {
        "colab": {
          "base_uri": "https://localhost:8080/"
        },
        "id": "vdhu61gH2g6U",
        "outputId": "661bc6fb-ded9-49eb-cfde-5d33ee2d8879"
      },
      "execution_count": null,
      "outputs": [
        {
          "output_type": "stream",
          "name": "stderr",
          "text": [
            "/usr/local/lib/python3.7/dist-packages/IPython/core/interactiveshell.py:3326: DtypeWarning: Columns (10) have mixed types.Specify dtype option on import or set low_memory=False.\n",
            "  exec(code_obj, self.user_global_ns, self.user_ns)\n"
          ]
        }
      ]
    },
    {
      "cell_type": "markdown",
      "source": [
        "**Number of rows and columns in the dataset**"
      ],
      "metadata": {
        "id": "1hb9U5CC4qVZ"
      }
    },
    {
      "cell_type": "code",
      "source": [
        "credits.shape"
      ],
      "metadata": {
        "colab": {
          "base_uri": "https://localhost:8080/"
        },
        "id": "VJA6n4tw4rYk",
        "outputId": "9be05457-b38d-4846-fcb7-39f29d56b1f3"
      },
      "execution_count": null,
      "outputs": [
        {
          "output_type": "execute_result",
          "data": {
            "text/plain": [
              "(45476, 3)"
            ]
          },
          "metadata": {},
          "execution_count": 6
        }
      ]
    },
    {
      "cell_type": "code",
      "source": [
        "movie_metadata.shape"
      ],
      "metadata": {
        "colab": {
          "base_uri": "https://localhost:8080/"
        },
        "id": "O3POF1u45err",
        "outputId": "4e327894-6e0e-46f6-b6f1-8777aae77130"
      },
      "execution_count": null,
      "outputs": [
        {
          "output_type": "execute_result",
          "data": {
            "text/plain": [
              "(45466, 24)"
            ]
          },
          "metadata": {},
          "execution_count": 7
        }
      ]
    },
    {
      "cell_type": "code",
      "source": [
        "credits"
      ],
      "metadata": {
        "colab": {
          "base_uri": "https://localhost:8080/",
          "height": 424
        },
        "id": "yi4MTipN5pf6",
        "outputId": "a8c60b5e-31e6-4407-e632-89224eb82135"
      },
      "execution_count": null,
      "outputs": [
        {
          "output_type": "execute_result",
          "data": {
            "text/plain": [
              "                                                    cast  \\\n",
              "0      [{'cast_id': 14, 'character': 'Woody (voice)',...   \n",
              "1      [{'cast_id': 1, 'character': 'Alan Parrish', '...   \n",
              "2      [{'cast_id': 2, 'character': 'Max Goldman', 'c...   \n",
              "3      [{'cast_id': 1, 'character': \"Savannah 'Vannah...   \n",
              "4      [{'cast_id': 1, 'character': 'George Banks', '...   \n",
              "...                                                  ...   \n",
              "45471  [{'cast_id': 0, 'character': '', 'credit_id': ...   \n",
              "45472  [{'cast_id': 1002, 'character': 'Sister Angela...   \n",
              "45473  [{'cast_id': 6, 'character': 'Emily Shaw', 'cr...   \n",
              "45474  [{'cast_id': 2, 'character': '', 'credit_id': ...   \n",
              "45475                                                 []   \n",
              "\n",
              "                                                    crew      id  \n",
              "0      [{'credit_id': '52fe4284c3a36847f8024f49', 'de...     862  \n",
              "1      [{'credit_id': '52fe44bfc3a36847f80a7cd1', 'de...    8844  \n",
              "2      [{'credit_id': '52fe466a9251416c75077a89', 'de...   15602  \n",
              "3      [{'credit_id': '52fe44779251416c91011acb', 'de...   31357  \n",
              "4      [{'credit_id': '52fe44959251416c75039ed7', 'de...   11862  \n",
              "...                                                  ...     ...  \n",
              "45471  [{'credit_id': '5894a97d925141426c00818c', 'de...  439050  \n",
              "45472  [{'credit_id': '52fe4af1c3a36847f81e9b15', 'de...  111109  \n",
              "45473  [{'credit_id': '52fe4776c3a368484e0c8387', 'de...   67758  \n",
              "45474  [{'credit_id': '533bccebc3a36844cf0011a7', 'de...  227506  \n",
              "45475  [{'credit_id': '593e676c92514105b702e68e', 'de...  461257  \n",
              "\n",
              "[45476 rows x 3 columns]"
            ],
            "text/html": [
              "\n",
              "  <div id=\"df-d7b39201-ec03-482c-9523-4cd19a1114d5\">\n",
              "    <div class=\"colab-df-container\">\n",
              "      <div>\n",
              "<style scoped>\n",
              "    .dataframe tbody tr th:only-of-type {\n",
              "        vertical-align: middle;\n",
              "    }\n",
              "\n",
              "    .dataframe tbody tr th {\n",
              "        vertical-align: top;\n",
              "    }\n",
              "\n",
              "    .dataframe thead th {\n",
              "        text-align: right;\n",
              "    }\n",
              "</style>\n",
              "<table border=\"1\" class=\"dataframe\">\n",
              "  <thead>\n",
              "    <tr style=\"text-align: right;\">\n",
              "      <th></th>\n",
              "      <th>cast</th>\n",
              "      <th>crew</th>\n",
              "      <th>id</th>\n",
              "    </tr>\n",
              "  </thead>\n",
              "  <tbody>\n",
              "    <tr>\n",
              "      <th>0</th>\n",
              "      <td>[{'cast_id': 14, 'character': 'Woody (voice)',...</td>\n",
              "      <td>[{'credit_id': '52fe4284c3a36847f8024f49', 'de...</td>\n",
              "      <td>862</td>\n",
              "    </tr>\n",
              "    <tr>\n",
              "      <th>1</th>\n",
              "      <td>[{'cast_id': 1, 'character': 'Alan Parrish', '...</td>\n",
              "      <td>[{'credit_id': '52fe44bfc3a36847f80a7cd1', 'de...</td>\n",
              "      <td>8844</td>\n",
              "    </tr>\n",
              "    <tr>\n",
              "      <th>2</th>\n",
              "      <td>[{'cast_id': 2, 'character': 'Max Goldman', 'c...</td>\n",
              "      <td>[{'credit_id': '52fe466a9251416c75077a89', 'de...</td>\n",
              "      <td>15602</td>\n",
              "    </tr>\n",
              "    <tr>\n",
              "      <th>3</th>\n",
              "      <td>[{'cast_id': 1, 'character': \"Savannah 'Vannah...</td>\n",
              "      <td>[{'credit_id': '52fe44779251416c91011acb', 'de...</td>\n",
              "      <td>31357</td>\n",
              "    </tr>\n",
              "    <tr>\n",
              "      <th>4</th>\n",
              "      <td>[{'cast_id': 1, 'character': 'George Banks', '...</td>\n",
              "      <td>[{'credit_id': '52fe44959251416c75039ed7', 'de...</td>\n",
              "      <td>11862</td>\n",
              "    </tr>\n",
              "    <tr>\n",
              "      <th>...</th>\n",
              "      <td>...</td>\n",
              "      <td>...</td>\n",
              "      <td>...</td>\n",
              "    </tr>\n",
              "    <tr>\n",
              "      <th>45471</th>\n",
              "      <td>[{'cast_id': 0, 'character': '', 'credit_id': ...</td>\n",
              "      <td>[{'credit_id': '5894a97d925141426c00818c', 'de...</td>\n",
              "      <td>439050</td>\n",
              "    </tr>\n",
              "    <tr>\n",
              "      <th>45472</th>\n",
              "      <td>[{'cast_id': 1002, 'character': 'Sister Angela...</td>\n",
              "      <td>[{'credit_id': '52fe4af1c3a36847f81e9b15', 'de...</td>\n",
              "      <td>111109</td>\n",
              "    </tr>\n",
              "    <tr>\n",
              "      <th>45473</th>\n",
              "      <td>[{'cast_id': 6, 'character': 'Emily Shaw', 'cr...</td>\n",
              "      <td>[{'credit_id': '52fe4776c3a368484e0c8387', 'de...</td>\n",
              "      <td>67758</td>\n",
              "    </tr>\n",
              "    <tr>\n",
              "      <th>45474</th>\n",
              "      <td>[{'cast_id': 2, 'character': '', 'credit_id': ...</td>\n",
              "      <td>[{'credit_id': '533bccebc3a36844cf0011a7', 'de...</td>\n",
              "      <td>227506</td>\n",
              "    </tr>\n",
              "    <tr>\n",
              "      <th>45475</th>\n",
              "      <td>[]</td>\n",
              "      <td>[{'credit_id': '593e676c92514105b702e68e', 'de...</td>\n",
              "      <td>461257</td>\n",
              "    </tr>\n",
              "  </tbody>\n",
              "</table>\n",
              "<p>45476 rows × 3 columns</p>\n",
              "</div>\n",
              "      <button class=\"colab-df-convert\" onclick=\"convertToInteractive('df-d7b39201-ec03-482c-9523-4cd19a1114d5')\"\n",
              "              title=\"Convert this dataframe to an interactive table.\"\n",
              "              style=\"display:none;\">\n",
              "        \n",
              "  <svg xmlns=\"http://www.w3.org/2000/svg\" height=\"24px\"viewBox=\"0 0 24 24\"\n",
              "       width=\"24px\">\n",
              "    <path d=\"M0 0h24v24H0V0z\" fill=\"none\"/>\n",
              "    <path d=\"M18.56 5.44l.94 2.06.94-2.06 2.06-.94-2.06-.94-.94-2.06-.94 2.06-2.06.94zm-11 1L8.5 8.5l.94-2.06 2.06-.94-2.06-.94L8.5 2.5l-.94 2.06-2.06.94zm10 10l.94 2.06.94-2.06 2.06-.94-2.06-.94-.94-2.06-.94 2.06-2.06.94z\"/><path d=\"M17.41 7.96l-1.37-1.37c-.4-.4-.92-.59-1.43-.59-.52 0-1.04.2-1.43.59L10.3 9.45l-7.72 7.72c-.78.78-.78 2.05 0 2.83L4 21.41c.39.39.9.59 1.41.59.51 0 1.02-.2 1.41-.59l7.78-7.78 2.81-2.81c.8-.78.8-2.07 0-2.86zM5.41 20L4 18.59l7.72-7.72 1.47 1.35L5.41 20z\"/>\n",
              "  </svg>\n",
              "      </button>\n",
              "      \n",
              "  <style>\n",
              "    .colab-df-container {\n",
              "      display:flex;\n",
              "      flex-wrap:wrap;\n",
              "      gap: 12px;\n",
              "    }\n",
              "\n",
              "    .colab-df-convert {\n",
              "      background-color: #E8F0FE;\n",
              "      border: none;\n",
              "      border-radius: 50%;\n",
              "      cursor: pointer;\n",
              "      display: none;\n",
              "      fill: #1967D2;\n",
              "      height: 32px;\n",
              "      padding: 0 0 0 0;\n",
              "      width: 32px;\n",
              "    }\n",
              "\n",
              "    .colab-df-convert:hover {\n",
              "      background-color: #E2EBFA;\n",
              "      box-shadow: 0px 1px 2px rgba(60, 64, 67, 0.3), 0px 1px 3px 1px rgba(60, 64, 67, 0.15);\n",
              "      fill: #174EA6;\n",
              "    }\n",
              "\n",
              "    [theme=dark] .colab-df-convert {\n",
              "      background-color: #3B4455;\n",
              "      fill: #D2E3FC;\n",
              "    }\n",
              "\n",
              "    [theme=dark] .colab-df-convert:hover {\n",
              "      background-color: #434B5C;\n",
              "      box-shadow: 0px 1px 3px 1px rgba(0, 0, 0, 0.15);\n",
              "      filter: drop-shadow(0px 1px 2px rgba(0, 0, 0, 0.3));\n",
              "      fill: #FFFFFF;\n",
              "    }\n",
              "  </style>\n",
              "\n",
              "      <script>\n",
              "        const buttonEl =\n",
              "          document.querySelector('#df-d7b39201-ec03-482c-9523-4cd19a1114d5 button.colab-df-convert');\n",
              "        buttonEl.style.display =\n",
              "          google.colab.kernel.accessAllowed ? 'block' : 'none';\n",
              "\n",
              "        async function convertToInteractive(key) {\n",
              "          const element = document.querySelector('#df-d7b39201-ec03-482c-9523-4cd19a1114d5');\n",
              "          const dataTable =\n",
              "            await google.colab.kernel.invokeFunction('convertToInteractive',\n",
              "                                                     [key], {});\n",
              "          if (!dataTable) return;\n",
              "\n",
              "          const docLinkHtml = 'Like what you see? Visit the ' +\n",
              "            '<a target=\"_blank\" href=https://colab.research.google.com/notebooks/data_table.ipynb>data table notebook</a>'\n",
              "            + ' to learn more about interactive tables.';\n",
              "          element.innerHTML = '';\n",
              "          dataTable['output_type'] = 'display_data';\n",
              "          await google.colab.output.renderOutput(dataTable, element);\n",
              "          const docLink = document.createElement('div');\n",
              "          docLink.innerHTML = docLinkHtml;\n",
              "          element.appendChild(docLink);\n",
              "        }\n",
              "      </script>\n",
              "    </div>\n",
              "  </div>\n",
              "  "
            ]
          },
          "metadata": {},
          "execution_count": 8
        }
      ]
    },
    {
      "cell_type": "markdown",
      "source": [
        "**Print the first 5 rows of the dataset**"
      ],
      "metadata": {
        "id": "phiKPtq25vB1"
      }
    },
    {
      "cell_type": "code",
      "source": [
        "movie_metadata.head(5)"
      ],
      "metadata": {
        "colab": {
          "base_uri": "https://localhost:8080/",
          "height": 751
        },
        "id": "BHeeOuSI5vPi",
        "outputId": "22d2206e-f2bd-417f-993d-9728209646d5"
      },
      "execution_count": null,
      "outputs": [
        {
          "output_type": "execute_result",
          "data": {
            "text/plain": [
              "   adult                              belongs_to_collection    budget  \\\n",
              "0  False  {'id': 10194, 'name': 'Toy Story Collection', ...  30000000   \n",
              "1  False                                                NaN  65000000   \n",
              "2  False  {'id': 119050, 'name': 'Grumpy Old Men Collect...         0   \n",
              "3  False                                                NaN  16000000   \n",
              "4  False  {'id': 96871, 'name': 'Father of the Bride Col...         0   \n",
              "\n",
              "                                              genres  \\\n",
              "0  [{'id': 16, 'name': 'Animation'}, {'id': 35, '...   \n",
              "1  [{'id': 12, 'name': 'Adventure'}, {'id': 14, '...   \n",
              "2  [{'id': 10749, 'name': 'Romance'}, {'id': 35, ...   \n",
              "3  [{'id': 35, 'name': 'Comedy'}, {'id': 18, 'nam...   \n",
              "4                     [{'id': 35, 'name': 'Comedy'}]   \n",
              "\n",
              "                               homepage     id    imdb_id original_language  \\\n",
              "0  http://toystory.disney.com/toy-story    862  tt0114709                en   \n",
              "1                                   NaN   8844  tt0113497                en   \n",
              "2                                   NaN  15602  tt0113228                en   \n",
              "3                                   NaN  31357  tt0114885                en   \n",
              "4                                   NaN  11862  tt0113041                en   \n",
              "\n",
              "                original_title  \\\n",
              "0                    Toy Story   \n",
              "1                      Jumanji   \n",
              "2             Grumpier Old Men   \n",
              "3            Waiting to Exhale   \n",
              "4  Father of the Bride Part II   \n",
              "\n",
              "                                            overview  ... release_date  \\\n",
              "0  Led by Woody, Andy's toys live happily in his ...  ...   1995-10-30   \n",
              "1  When siblings Judy and Peter discover an encha...  ...   1995-12-15   \n",
              "2  A family wedding reignites the ancient feud be...  ...   1995-12-22   \n",
              "3  Cheated on, mistreated and stepped on, the wom...  ...   1995-12-22   \n",
              "4  Just when George Banks has recovered from his ...  ...   1995-02-10   \n",
              "\n",
              "       revenue runtime                                   spoken_languages  \\\n",
              "0  373554033.0    81.0           [{'iso_639_1': 'en', 'name': 'English'}]   \n",
              "1  262797249.0   104.0  [{'iso_639_1': 'en', 'name': 'English'}, {'iso...   \n",
              "2          0.0   101.0           [{'iso_639_1': 'en', 'name': 'English'}]   \n",
              "3   81452156.0   127.0           [{'iso_639_1': 'en', 'name': 'English'}]   \n",
              "4   76578911.0   106.0           [{'iso_639_1': 'en', 'name': 'English'}]   \n",
              "\n",
              "     status                                            tagline  \\\n",
              "0  Released                                                NaN   \n",
              "1  Released          Roll the dice and unleash the excitement!   \n",
              "2  Released  Still Yelling. Still Fighting. Still Ready for...   \n",
              "3  Released  Friends are the people who let you be yourself...   \n",
              "4  Released  Just When His World Is Back To Normal... He's ...   \n",
              "\n",
              "                         title  video vote_average vote_count  \n",
              "0                    Toy Story  False          7.7     5415.0  \n",
              "1                      Jumanji  False          6.9     2413.0  \n",
              "2             Grumpier Old Men  False          6.5       92.0  \n",
              "3            Waiting to Exhale  False          6.1       34.0  \n",
              "4  Father of the Bride Part II  False          5.7      173.0  \n",
              "\n",
              "[5 rows x 24 columns]"
            ],
            "text/html": [
              "\n",
              "  <div id=\"df-ff2c9c44-3a92-4e8d-9f0b-beba45978b29\">\n",
              "    <div class=\"colab-df-container\">\n",
              "      <div>\n",
              "<style scoped>\n",
              "    .dataframe tbody tr th:only-of-type {\n",
              "        vertical-align: middle;\n",
              "    }\n",
              "\n",
              "    .dataframe tbody tr th {\n",
              "        vertical-align: top;\n",
              "    }\n",
              "\n",
              "    .dataframe thead th {\n",
              "        text-align: right;\n",
              "    }\n",
              "</style>\n",
              "<table border=\"1\" class=\"dataframe\">\n",
              "  <thead>\n",
              "    <tr style=\"text-align: right;\">\n",
              "      <th></th>\n",
              "      <th>adult</th>\n",
              "      <th>belongs_to_collection</th>\n",
              "      <th>budget</th>\n",
              "      <th>genres</th>\n",
              "      <th>homepage</th>\n",
              "      <th>id</th>\n",
              "      <th>imdb_id</th>\n",
              "      <th>original_language</th>\n",
              "      <th>original_title</th>\n",
              "      <th>overview</th>\n",
              "      <th>...</th>\n",
              "      <th>release_date</th>\n",
              "      <th>revenue</th>\n",
              "      <th>runtime</th>\n",
              "      <th>spoken_languages</th>\n",
              "      <th>status</th>\n",
              "      <th>tagline</th>\n",
              "      <th>title</th>\n",
              "      <th>video</th>\n",
              "      <th>vote_average</th>\n",
              "      <th>vote_count</th>\n",
              "    </tr>\n",
              "  </thead>\n",
              "  <tbody>\n",
              "    <tr>\n",
              "      <th>0</th>\n",
              "      <td>False</td>\n",
              "      <td>{'id': 10194, 'name': 'Toy Story Collection', ...</td>\n",
              "      <td>30000000</td>\n",
              "      <td>[{'id': 16, 'name': 'Animation'}, {'id': 35, '...</td>\n",
              "      <td>http://toystory.disney.com/toy-story</td>\n",
              "      <td>862</td>\n",
              "      <td>tt0114709</td>\n",
              "      <td>en</td>\n",
              "      <td>Toy Story</td>\n",
              "      <td>Led by Woody, Andy's toys live happily in his ...</td>\n",
              "      <td>...</td>\n",
              "      <td>1995-10-30</td>\n",
              "      <td>373554033.0</td>\n",
              "      <td>81.0</td>\n",
              "      <td>[{'iso_639_1': 'en', 'name': 'English'}]</td>\n",
              "      <td>Released</td>\n",
              "      <td>NaN</td>\n",
              "      <td>Toy Story</td>\n",
              "      <td>False</td>\n",
              "      <td>7.7</td>\n",
              "      <td>5415.0</td>\n",
              "    </tr>\n",
              "    <tr>\n",
              "      <th>1</th>\n",
              "      <td>False</td>\n",
              "      <td>NaN</td>\n",
              "      <td>65000000</td>\n",
              "      <td>[{'id': 12, 'name': 'Adventure'}, {'id': 14, '...</td>\n",
              "      <td>NaN</td>\n",
              "      <td>8844</td>\n",
              "      <td>tt0113497</td>\n",
              "      <td>en</td>\n",
              "      <td>Jumanji</td>\n",
              "      <td>When siblings Judy and Peter discover an encha...</td>\n",
              "      <td>...</td>\n",
              "      <td>1995-12-15</td>\n",
              "      <td>262797249.0</td>\n",
              "      <td>104.0</td>\n",
              "      <td>[{'iso_639_1': 'en', 'name': 'English'}, {'iso...</td>\n",
              "      <td>Released</td>\n",
              "      <td>Roll the dice and unleash the excitement!</td>\n",
              "      <td>Jumanji</td>\n",
              "      <td>False</td>\n",
              "      <td>6.9</td>\n",
              "      <td>2413.0</td>\n",
              "    </tr>\n",
              "    <tr>\n",
              "      <th>2</th>\n",
              "      <td>False</td>\n",
              "      <td>{'id': 119050, 'name': 'Grumpy Old Men Collect...</td>\n",
              "      <td>0</td>\n",
              "      <td>[{'id': 10749, 'name': 'Romance'}, {'id': 35, ...</td>\n",
              "      <td>NaN</td>\n",
              "      <td>15602</td>\n",
              "      <td>tt0113228</td>\n",
              "      <td>en</td>\n",
              "      <td>Grumpier Old Men</td>\n",
              "      <td>A family wedding reignites the ancient feud be...</td>\n",
              "      <td>...</td>\n",
              "      <td>1995-12-22</td>\n",
              "      <td>0.0</td>\n",
              "      <td>101.0</td>\n",
              "      <td>[{'iso_639_1': 'en', 'name': 'English'}]</td>\n",
              "      <td>Released</td>\n",
              "      <td>Still Yelling. Still Fighting. Still Ready for...</td>\n",
              "      <td>Grumpier Old Men</td>\n",
              "      <td>False</td>\n",
              "      <td>6.5</td>\n",
              "      <td>92.0</td>\n",
              "    </tr>\n",
              "    <tr>\n",
              "      <th>3</th>\n",
              "      <td>False</td>\n",
              "      <td>NaN</td>\n",
              "      <td>16000000</td>\n",
              "      <td>[{'id': 35, 'name': 'Comedy'}, {'id': 18, 'nam...</td>\n",
              "      <td>NaN</td>\n",
              "      <td>31357</td>\n",
              "      <td>tt0114885</td>\n",
              "      <td>en</td>\n",
              "      <td>Waiting to Exhale</td>\n",
              "      <td>Cheated on, mistreated and stepped on, the wom...</td>\n",
              "      <td>...</td>\n",
              "      <td>1995-12-22</td>\n",
              "      <td>81452156.0</td>\n",
              "      <td>127.0</td>\n",
              "      <td>[{'iso_639_1': 'en', 'name': 'English'}]</td>\n",
              "      <td>Released</td>\n",
              "      <td>Friends are the people who let you be yourself...</td>\n",
              "      <td>Waiting to Exhale</td>\n",
              "      <td>False</td>\n",
              "      <td>6.1</td>\n",
              "      <td>34.0</td>\n",
              "    </tr>\n",
              "    <tr>\n",
              "      <th>4</th>\n",
              "      <td>False</td>\n",
              "      <td>{'id': 96871, 'name': 'Father of the Bride Col...</td>\n",
              "      <td>0</td>\n",
              "      <td>[{'id': 35, 'name': 'Comedy'}]</td>\n",
              "      <td>NaN</td>\n",
              "      <td>11862</td>\n",
              "      <td>tt0113041</td>\n",
              "      <td>en</td>\n",
              "      <td>Father of the Bride Part II</td>\n",
              "      <td>Just when George Banks has recovered from his ...</td>\n",
              "      <td>...</td>\n",
              "      <td>1995-02-10</td>\n",
              "      <td>76578911.0</td>\n",
              "      <td>106.0</td>\n",
              "      <td>[{'iso_639_1': 'en', 'name': 'English'}]</td>\n",
              "      <td>Released</td>\n",
              "      <td>Just When His World Is Back To Normal... He's ...</td>\n",
              "      <td>Father of the Bride Part II</td>\n",
              "      <td>False</td>\n",
              "      <td>5.7</td>\n",
              "      <td>173.0</td>\n",
              "    </tr>\n",
              "  </tbody>\n",
              "</table>\n",
              "<p>5 rows × 24 columns</p>\n",
              "</div>\n",
              "      <button class=\"colab-df-convert\" onclick=\"convertToInteractive('df-ff2c9c44-3a92-4e8d-9f0b-beba45978b29')\"\n",
              "              title=\"Convert this dataframe to an interactive table.\"\n",
              "              style=\"display:none;\">\n",
              "        \n",
              "  <svg xmlns=\"http://www.w3.org/2000/svg\" height=\"24px\"viewBox=\"0 0 24 24\"\n",
              "       width=\"24px\">\n",
              "    <path d=\"M0 0h24v24H0V0z\" fill=\"none\"/>\n",
              "    <path d=\"M18.56 5.44l.94 2.06.94-2.06 2.06-.94-2.06-.94-.94-2.06-.94 2.06-2.06.94zm-11 1L8.5 8.5l.94-2.06 2.06-.94-2.06-.94L8.5 2.5l-.94 2.06-2.06.94zm10 10l.94 2.06.94-2.06 2.06-.94-2.06-.94-.94-2.06-.94 2.06-2.06.94z\"/><path d=\"M17.41 7.96l-1.37-1.37c-.4-.4-.92-.59-1.43-.59-.52 0-1.04.2-1.43.59L10.3 9.45l-7.72 7.72c-.78.78-.78 2.05 0 2.83L4 21.41c.39.39.9.59 1.41.59.51 0 1.02-.2 1.41-.59l7.78-7.78 2.81-2.81c.8-.78.8-2.07 0-2.86zM5.41 20L4 18.59l7.72-7.72 1.47 1.35L5.41 20z\"/>\n",
              "  </svg>\n",
              "      </button>\n",
              "      \n",
              "  <style>\n",
              "    .colab-df-container {\n",
              "      display:flex;\n",
              "      flex-wrap:wrap;\n",
              "      gap: 12px;\n",
              "    }\n",
              "\n",
              "    .colab-df-convert {\n",
              "      background-color: #E8F0FE;\n",
              "      border: none;\n",
              "      border-radius: 50%;\n",
              "      cursor: pointer;\n",
              "      display: none;\n",
              "      fill: #1967D2;\n",
              "      height: 32px;\n",
              "      padding: 0 0 0 0;\n",
              "      width: 32px;\n",
              "    }\n",
              "\n",
              "    .colab-df-convert:hover {\n",
              "      background-color: #E2EBFA;\n",
              "      box-shadow: 0px 1px 2px rgba(60, 64, 67, 0.3), 0px 1px 3px 1px rgba(60, 64, 67, 0.15);\n",
              "      fill: #174EA6;\n",
              "    }\n",
              "\n",
              "    [theme=dark] .colab-df-convert {\n",
              "      background-color: #3B4455;\n",
              "      fill: #D2E3FC;\n",
              "    }\n",
              "\n",
              "    [theme=dark] .colab-df-convert:hover {\n",
              "      background-color: #434B5C;\n",
              "      box-shadow: 0px 1px 3px 1px rgba(0, 0, 0, 0.15);\n",
              "      filter: drop-shadow(0px 1px 2px rgba(0, 0, 0, 0.3));\n",
              "      fill: #FFFFFF;\n",
              "    }\n",
              "  </style>\n",
              "\n",
              "      <script>\n",
              "        const buttonEl =\n",
              "          document.querySelector('#df-ff2c9c44-3a92-4e8d-9f0b-beba45978b29 button.colab-df-convert');\n",
              "        buttonEl.style.display =\n",
              "          google.colab.kernel.accessAllowed ? 'block' : 'none';\n",
              "\n",
              "        async function convertToInteractive(key) {\n",
              "          const element = document.querySelector('#df-ff2c9c44-3a92-4e8d-9f0b-beba45978b29');\n",
              "          const dataTable =\n",
              "            await google.colab.kernel.invokeFunction('convertToInteractive',\n",
              "                                                     [key], {});\n",
              "          if (!dataTable) return;\n",
              "\n",
              "          const docLinkHtml = 'Like what you see? Visit the ' +\n",
              "            '<a target=\"_blank\" href=https://colab.research.google.com/notebooks/data_table.ipynb>data table notebook</a>'\n",
              "            + ' to learn more about interactive tables.';\n",
              "          element.innerHTML = '';\n",
              "          dataTable['output_type'] = 'display_data';\n",
              "          await google.colab.output.renderOutput(dataTable, element);\n",
              "          const docLink = document.createElement('div');\n",
              "          docLink.innerHTML = docLinkHtml;\n",
              "          element.appendChild(docLink);\n",
              "        }\n",
              "      </script>\n",
              "    </div>\n",
              "  </div>\n",
              "  "
            ]
          },
          "metadata": {},
          "execution_count": 9
        }
      ]
    },
    {
      "cell_type": "markdown",
      "source": [
        "**Converting release date into date-time**"
      ],
      "metadata": {
        "id": "QEHaA19d4z2f"
      }
    },
    {
      "cell_type": "code",
      "source": [
        "movie_metadata['release_date'] = pd.to_datetime(movie_metadata['release_date'], errors='coerce')"
      ],
      "metadata": {
        "id": "N00ui21N40D5"
      },
      "execution_count": null,
      "outputs": []
    },
    {
      "cell_type": "markdown",
      "source": [
        "**Get only the Year from the data**"
      ],
      "metadata": {
        "id": "W82YQCVe7-qe"
      }
    },
    {
      "cell_type": "code",
      "source": [
        "movie_metadata['year'] = movie_metadata['release_date'].director.year"
      ],
      "metadata": {
        "id": "pC2hLLnj8DyP"
      },
      "execution_count": null,
      "outputs": []
    },
    {
      "cell_type": "markdown",
      "source": [
        "**Sort and count the value of Year by Data**"
      ],
      "metadata": {
        "id": "kOjnen0P8Kii"
      }
    },
    {
      "cell_type": "code",
      "source": [
        "movie_metadata['year'].value_counts().sort_index()"
      ],
      "metadata": {
        "colab": {
          "base_uri": "https://localhost:8080/"
        },
        "id": "h4POGk2m8RJd",
        "outputId": "d25dd03c-1817-4032-d7f8-19dbf60d4bc9"
      },
      "execution_count": null,
      "outputs": [
        {
          "output_type": "execute_result",
          "data": {
            "text/plain": [
              "1874.0       1\n",
              "1878.0       1\n",
              "1883.0       1\n",
              "1887.0       1\n",
              "1888.0       2\n",
              "          ... \n",
              "2015.0    1905\n",
              "2016.0    1604\n",
              "2017.0     532\n",
              "2018.0       5\n",
              "2020.0       1\n",
              "Name: year, Length: 135, dtype: int64"
            ]
          },
          "metadata": {},
          "execution_count": 12
        }
      ]
    },
    {
      "cell_type": "markdown",
      "source": [
        "**Geting the data of only year 2017**"
      ],
      "metadata": {
        "id": "zcLLmB17-iuv"
      }
    },
    {
      "cell_type": "code",
      "source": [
        "data = movie_metadata.loc[movie_metadata.year == 2017,['genres','id','title','year']]"
      ],
      "metadata": {
        "id": "BmtF0f7n-i-v"
      },
      "execution_count": null,
      "outputs": []
    },
    {
      "cell_type": "code",
      "source": [
        "data.head(5)"
      ],
      "metadata": {
        "colab": {
          "base_uri": "https://localhost:8080/",
          "height": 206
        },
        "id": "SpNczg9I_nnJ",
        "outputId": "25f94a05-f540-4912-f104-2d5d1a30a85d"
      },
      "execution_count": null,
      "outputs": [
        {
          "output_type": "execute_result",
          "data": {
            "text/plain": [
              "                                                  genres      id  \\\n",
              "26560  [{'id': 12, 'name': 'Adventure'}, {'id': 28, '...  166426   \n",
              "26561  [{'id': 28, 'name': 'Action'}, {'id': 12, 'nam...  141052   \n",
              "26565  [{'id': 28, 'name': 'Action'}, {'id': 12, 'nam...  284053   \n",
              "26566  [{'id': 28, 'name': 'Action'}, {'id': 12, 'nam...  283995   \n",
              "30536  [{'id': 14, 'name': 'Fantasy'}, {'id': 28, 'na...  245842   \n",
              "\n",
              "                                                  title    year  \n",
              "26560  Pirates of the Caribbean: Dead Men Tell No Tales  2017.0  \n",
              "26561                                    Justice League  2017.0  \n",
              "26565                                    Thor: Ragnarok  2017.0  \n",
              "26566                    Guardians of the Galaxy Vol. 2  2017.0  \n",
              "30536                               The King's Daughter  2017.0  "
            ],
            "text/html": [
              "\n",
              "  <div id=\"df-52805b80-272e-4c3f-b18c-916d28badaab\">\n",
              "    <div class=\"colab-df-container\">\n",
              "      <div>\n",
              "<style scoped>\n",
              "    .dataframe tbody tr th:only-of-type {\n",
              "        vertical-align: middle;\n",
              "    }\n",
              "\n",
              "    .dataframe tbody tr th {\n",
              "        vertical-align: top;\n",
              "    }\n",
              "\n",
              "    .dataframe thead th {\n",
              "        text-align: right;\n",
              "    }\n",
              "</style>\n",
              "<table border=\"1\" class=\"dataframe\">\n",
              "  <thead>\n",
              "    <tr style=\"text-align: right;\">\n",
              "      <th></th>\n",
              "      <th>genres</th>\n",
              "      <th>id</th>\n",
              "      <th>title</th>\n",
              "      <th>year</th>\n",
              "    </tr>\n",
              "  </thead>\n",
              "  <tbody>\n",
              "    <tr>\n",
              "      <th>26560</th>\n",
              "      <td>[{'id': 12, 'name': 'Adventure'}, {'id': 28, '...</td>\n",
              "      <td>166426</td>\n",
              "      <td>Pirates of the Caribbean: Dead Men Tell No Tales</td>\n",
              "      <td>2017.0</td>\n",
              "    </tr>\n",
              "    <tr>\n",
              "      <th>26561</th>\n",
              "      <td>[{'id': 28, 'name': 'Action'}, {'id': 12, 'nam...</td>\n",
              "      <td>141052</td>\n",
              "      <td>Justice League</td>\n",
              "      <td>2017.0</td>\n",
              "    </tr>\n",
              "    <tr>\n",
              "      <th>26565</th>\n",
              "      <td>[{'id': 28, 'name': 'Action'}, {'id': 12, 'nam...</td>\n",
              "      <td>284053</td>\n",
              "      <td>Thor: Ragnarok</td>\n",
              "      <td>2017.0</td>\n",
              "    </tr>\n",
              "    <tr>\n",
              "      <th>26566</th>\n",
              "      <td>[{'id': 28, 'name': 'Action'}, {'id': 12, 'nam...</td>\n",
              "      <td>283995</td>\n",
              "      <td>Guardians of the Galaxy Vol. 2</td>\n",
              "      <td>2017.0</td>\n",
              "    </tr>\n",
              "    <tr>\n",
              "      <th>30536</th>\n",
              "      <td>[{'id': 14, 'name': 'Fantasy'}, {'id': 28, 'na...</td>\n",
              "      <td>245842</td>\n",
              "      <td>The King's Daughter</td>\n",
              "      <td>2017.0</td>\n",
              "    </tr>\n",
              "  </tbody>\n",
              "</table>\n",
              "</div>\n",
              "      <button class=\"colab-df-convert\" onclick=\"convertToInteractive('df-52805b80-272e-4c3f-b18c-916d28badaab')\"\n",
              "              title=\"Convert this dataframe to an interactive table.\"\n",
              "              style=\"display:none;\">\n",
              "        \n",
              "  <svg xmlns=\"http://www.w3.org/2000/svg\" height=\"24px\"viewBox=\"0 0 24 24\"\n",
              "       width=\"24px\">\n",
              "    <path d=\"M0 0h24v24H0V0z\" fill=\"none\"/>\n",
              "    <path d=\"M18.56 5.44l.94 2.06.94-2.06 2.06-.94-2.06-.94-.94-2.06-.94 2.06-2.06.94zm-11 1L8.5 8.5l.94-2.06 2.06-.94-2.06-.94L8.5 2.5l-.94 2.06-2.06.94zm10 10l.94 2.06.94-2.06 2.06-.94-2.06-.94-.94-2.06-.94 2.06-2.06.94z\"/><path d=\"M17.41 7.96l-1.37-1.37c-.4-.4-.92-.59-1.43-.59-.52 0-1.04.2-1.43.59L10.3 9.45l-7.72 7.72c-.78.78-.78 2.05 0 2.83L4 21.41c.39.39.9.59 1.41.59.51 0 1.02-.2 1.41-.59l7.78-7.78 2.81-2.81c.8-.78.8-2.07 0-2.86zM5.41 20L4 18.59l7.72-7.72 1.47 1.35L5.41 20z\"/>\n",
              "  </svg>\n",
              "      </button>\n",
              "      \n",
              "  <style>\n",
              "    .colab-df-container {\n",
              "      display:flex;\n",
              "      flex-wrap:wrap;\n",
              "      gap: 12px;\n",
              "    }\n",
              "\n",
              "    .colab-df-convert {\n",
              "      background-color: #E8F0FE;\n",
              "      border: none;\n",
              "      border-radius: 50%;\n",
              "      cursor: pointer;\n",
              "      display: none;\n",
              "      fill: #1967D2;\n",
              "      height: 32px;\n",
              "      padding: 0 0 0 0;\n",
              "      width: 32px;\n",
              "    }\n",
              "\n",
              "    .colab-df-convert:hover {\n",
              "      background-color: #E2EBFA;\n",
              "      box-shadow: 0px 1px 2px rgba(60, 64, 67, 0.3), 0px 1px 3px 1px rgba(60, 64, 67, 0.15);\n",
              "      fill: #174EA6;\n",
              "    }\n",
              "\n",
              "    [theme=dark] .colab-df-convert {\n",
              "      background-color: #3B4455;\n",
              "      fill: #D2E3FC;\n",
              "    }\n",
              "\n",
              "    [theme=dark] .colab-df-convert:hover {\n",
              "      background-color: #434B5C;\n",
              "      box-shadow: 0px 1px 3px 1px rgba(0, 0, 0, 0.15);\n",
              "      filter: drop-shadow(0px 1px 2px rgba(0, 0, 0, 0.3));\n",
              "      fill: #FFFFFF;\n",
              "    }\n",
              "  </style>\n",
              "\n",
              "      <script>\n",
              "        const buttonEl =\n",
              "          document.querySelector('#df-52805b80-272e-4c3f-b18c-916d28badaab button.colab-df-convert');\n",
              "        buttonEl.style.display =\n",
              "          google.colab.kernel.accessAllowed ? 'block' : 'none';\n",
              "\n",
              "        async function convertToInteractive(key) {\n",
              "          const element = document.querySelector('#df-52805b80-272e-4c3f-b18c-916d28badaab');\n",
              "          const dataTable =\n",
              "            await google.colab.kernel.invokeFunction('convertToInteractive',\n",
              "                                                     [key], {});\n",
              "          if (!dataTable) return;\n",
              "\n",
              "          const docLinkHtml = 'Like what you see? Visit the ' +\n",
              "            '<a target=\"_blank\" href=https://colab.research.google.com/notebooks/data_table.ipynb>data table notebook</a>'\n",
              "            + ' to learn more about interactive tables.';\n",
              "          element.innerHTML = '';\n",
              "          dataTable['output_type'] = 'display_data';\n",
              "          await google.colab.output.renderOutput(dataTable, element);\n",
              "          const docLink = document.createElement('div');\n",
              "          docLink.innerHTML = docLinkHtml;\n",
              "          element.appendChild(docLink);\n",
              "        }\n",
              "      </script>\n",
              "    </div>\n",
              "  </div>\n",
              "  "
            ]
          },
          "metadata": {},
          "execution_count": 14
        }
      ]
    },
    {
      "cell_type": "markdown",
      "source": [
        "**Converting the data id (string) to Integer**"
      ],
      "metadata": {
        "id": "OuMCMFwv_uzm"
      }
    },
    {
      "cell_type": "code",
      "source": [
        "data['id'] = data['id'].astype(int)"
      ],
      "metadata": {
        "id": "riv2QTcY_vAG"
      },
      "execution_count": null,
      "outputs": []
    },
    {
      "cell_type": "code",
      "source": [
        "New_data = pd.merge(data, credits, on='id')"
      ],
      "metadata": {
        "id": "H_Uol41wKfzL"
      },
      "execution_count": null,
      "outputs": []
    },
    {
      "cell_type": "markdown",
      "source": [
        "**Displaying the extracted dataset**"
      ],
      "metadata": {
        "id": "iTrOY4gmLpEY"
      }
    },
    {
      "cell_type": "code",
      "source": [
        "pd.set_option('display.max_colwidth', 80)\n",
        "New_data"
      ],
      "metadata": {
        "colab": {
          "base_uri": "https://localhost:8080/",
          "height": 1000
        },
        "id": "Sx-agKEqLQl2",
        "outputId": "7cbaa6be-40ad-4f9a-ec0c-48441225a6f6"
      },
      "execution_count": null,
      "outputs": [
        {
          "output_type": "execute_result",
          "data": {
            "text/plain": [
              "                                                                              genres  \\\n",
              "0    [{'id': 12, 'name': 'Adventure'}, {'id': 28, 'name': 'Action'}, {'id': 14, '...   \n",
              "1    [{'id': 28, 'name': 'Action'}, {'id': 12, 'name': 'Adventure'}, {'id': 14, '...   \n",
              "2    [{'id': 28, 'name': 'Action'}, {'id': 12, 'name': 'Adventure'}, {'id': 14, '...   \n",
              "3    [{'id': 28, 'name': 'Action'}, {'id': 12, 'name': 'Adventure'}, {'id': 35, '...   \n",
              "4    [{'id': 14, 'name': 'Fantasy'}, {'id': 28, 'name': 'Action'}, {'id': 12, 'na...   \n",
              "..                                                                               ...   \n",
              "526                 [{'id': 10749, 'name': 'Romance'}, {'id': 35, 'name': 'Comedy'}]   \n",
              "527  [{'id': 80, 'name': 'Crime'}, {'id': 35, 'name': 'Comedy'}, {'id': 28, 'name...   \n",
              "528  [{'id': 10751, 'name': 'Family'}, {'id': 16, 'name': 'Animation'}, {'id': 10...   \n",
              "529  [{'id': 80, 'name': 'Crime'}, {'id': 18, 'name': 'Drama'}, {'id': 53, 'name'...   \n",
              "530                                                                               []   \n",
              "\n",
              "         id                                             title    year  \\\n",
              "0    166426  Pirates of the Caribbean: Dead Men Tell No Tales  2017.0   \n",
              "1    141052                                    Justice League  2017.0   \n",
              "2    284053                                    Thor: Ragnarok  2017.0   \n",
              "3    283995                    Guardians of the Galaxy Vol. 2  2017.0   \n",
              "4    245842                               The King's Daughter  2017.0   \n",
              "..      ...                                               ...     ...   \n",
              "526  468707                  Thick Lashes of Lauri Mäntyvaara  2017.0   \n",
              "527  461297                       Cop and a Half: New Recruit  2017.0   \n",
              "528  455661                                    In a Heartbeat  2017.0   \n",
              "529  404604                                               Mom  2017.0   \n",
              "530  461257                                          Queerama  2017.0   \n",
              "\n",
              "                                                                                cast  \\\n",
              "0    [{'cast_id': 1, 'character': 'Captain Jack Sparrow', 'credit_id': '52fe4c9cc...   \n",
              "1    [{'cast_id': 2, 'character': 'Bruce Wayne / Batman', 'credit_id': '535e68db0...   \n",
              "2    [{'cast_id': 0, 'character': 'Thor Odinson', 'credit_id': '545d46a80e0a261fb...   \n",
              "3    [{'cast_id': 3, 'character': 'Peter Quill / Star-Lord', 'credit_id': '53dd76...   \n",
              "4    [{'cast_id': 0, 'character': 'King Louis XIV', 'credit_id': '5431dd580e0a265...   \n",
              "..                                                                               ...   \n",
              "526  [{'cast_id': 0, 'character': 'Satu', 'credit_id': '597e2086c3a368544001b0b1'...   \n",
              "527  [{'cast_id': 0, 'character': 'Detective Simmons', 'credit_id': '593ba04e9251...   \n",
              "528                                                                               []   \n",
              "529  [{'cast_id': 1, 'character': 'Devki Sabarwal', 'credit_id': '577809adc3a3686...   \n",
              "530                                                                               []   \n",
              "\n",
              "                                                                                crew  \\\n",
              "0    [{'credit_id': '52fe4c9cc3a36847f8236a65', 'department': 'Production', 'gend...   \n",
              "1    [{'credit_id': '55ef66dbc3a3686f1700a52d', 'department': 'Production', 'gend...   \n",
              "2    [{'credit_id': '56a93fa4c3a36872db001e7a', 'department': 'Writing', 'gender'...   \n",
              "3    [{'credit_id': '59171547925141583c0315a6', 'department': 'Sound', 'gender': ...   \n",
              "4    [{'credit_id': '5431de49c3a36825d300007e', 'department': 'Directing', 'gende...   \n",
              "..                                                                               ...   \n",
              "526  [{'credit_id': '597e22f69251415d7801c74a', 'department': 'Directing', 'gende...   \n",
              "527  [{'credit_id': '593ba0c29251410593009be3', 'department': 'Writing', 'gender'...   \n",
              "528  [{'credit_id': '5981a15c92514151e0011b51', 'department': 'Sound', 'gender': ...   \n",
              "529  [{'credit_id': '58ee55bbc3a3683df500bd0f', 'department': 'Sound', 'gender': ...   \n",
              "530  [{'credit_id': '593e676c92514105b702e68e', 'department': 'Directing', 'gende...   \n",
              "\n",
              "                         genres_list          actor_1_name    actor_2_name  \\\n",
              "0    Adventure Action Fantasy Comedy           Johnny Depp   Javier Bardem   \n",
              "1    Action Adventure Fantasy Sci-Fi           Ben Affleck    Henry Cavill   \n",
              "2    Action Adventure Fantasy Sci-Fi       Chris Hemsworth  Tom Hiddleston   \n",
              "3     Action Adventure Comedy Sci-Fi           Chris Pratt     Zoe Saldana   \n",
              "4           Fantasy Action Adventure        Pierce Brosnan    William Hurt   \n",
              "..                               ...                   ...             ...   \n",
              "526                   Romance Comedy        Inka Haapamäki   Rosa Honkonen   \n",
              "527       Crime Comedy Action Family  Lou Diamond Phillips   Wallace Shawn   \n",
              "528  Family Animation Romance Comedy                   NaN             NaN   \n",
              "529             Crime Drama Thriller        Sridevi Kapoor       Sajal Ali   \n",
              "530                              NaN                   NaN             NaN   \n",
              "\n",
              "        actor_3_name  \n",
              "0      Geoffrey Rush  \n",
              "1          Gal Gadot  \n",
              "2     Cate Blanchett  \n",
              "3      Dave Bautista  \n",
              "4    Benjamin Walker  \n",
              "..               ...  \n",
              "526   Tiitus Rantala  \n",
              "527      Gina Holden  \n",
              "528              NaN  \n",
              "529   Akshaye Khanna  \n",
              "530              NaN  \n",
              "\n",
              "[531 rows x 10 columns]"
            ],
            "text/html": [
              "\n",
              "  <div id=\"df-f790ea77-3714-4c07-a9c6-088771db92c1\">\n",
              "    <div class=\"colab-df-container\">\n",
              "      <div>\n",
              "<style scoped>\n",
              "    .dataframe tbody tr th:only-of-type {\n",
              "        vertical-align: middle;\n",
              "    }\n",
              "\n",
              "    .dataframe tbody tr th {\n",
              "        vertical-align: top;\n",
              "    }\n",
              "\n",
              "    .dataframe thead th {\n",
              "        text-align: right;\n",
              "    }\n",
              "</style>\n",
              "<table border=\"1\" class=\"dataframe\">\n",
              "  <thead>\n",
              "    <tr style=\"text-align: right;\">\n",
              "      <th></th>\n",
              "      <th>genres</th>\n",
              "      <th>id</th>\n",
              "      <th>title</th>\n",
              "      <th>year</th>\n",
              "      <th>cast</th>\n",
              "      <th>crew</th>\n",
              "      <th>genres_list</th>\n",
              "      <th>actor_1_name</th>\n",
              "      <th>actor_2_name</th>\n",
              "      <th>actor_3_name</th>\n",
              "    </tr>\n",
              "  </thead>\n",
              "  <tbody>\n",
              "    <tr>\n",
              "      <th>0</th>\n",
              "      <td>[{'id': 12, 'name': 'Adventure'}, {'id': 28, 'name': 'Action'}, {'id': 14, '...</td>\n",
              "      <td>166426</td>\n",
              "      <td>Pirates of the Caribbean: Dead Men Tell No Tales</td>\n",
              "      <td>2017.0</td>\n",
              "      <td>[{'cast_id': 1, 'character': 'Captain Jack Sparrow', 'credit_id': '52fe4c9cc...</td>\n",
              "      <td>[{'credit_id': '52fe4c9cc3a36847f8236a65', 'department': 'Production', 'gend...</td>\n",
              "      <td>Adventure Action Fantasy Comedy</td>\n",
              "      <td>Johnny Depp</td>\n",
              "      <td>Javier Bardem</td>\n",
              "      <td>Geoffrey Rush</td>\n",
              "    </tr>\n",
              "    <tr>\n",
              "      <th>1</th>\n",
              "      <td>[{'id': 28, 'name': 'Action'}, {'id': 12, 'name': 'Adventure'}, {'id': 14, '...</td>\n",
              "      <td>141052</td>\n",
              "      <td>Justice League</td>\n",
              "      <td>2017.0</td>\n",
              "      <td>[{'cast_id': 2, 'character': 'Bruce Wayne / Batman', 'credit_id': '535e68db0...</td>\n",
              "      <td>[{'credit_id': '55ef66dbc3a3686f1700a52d', 'department': 'Production', 'gend...</td>\n",
              "      <td>Action Adventure Fantasy Sci-Fi</td>\n",
              "      <td>Ben Affleck</td>\n",
              "      <td>Henry Cavill</td>\n",
              "      <td>Gal Gadot</td>\n",
              "    </tr>\n",
              "    <tr>\n",
              "      <th>2</th>\n",
              "      <td>[{'id': 28, 'name': 'Action'}, {'id': 12, 'name': 'Adventure'}, {'id': 14, '...</td>\n",
              "      <td>284053</td>\n",
              "      <td>Thor: Ragnarok</td>\n",
              "      <td>2017.0</td>\n",
              "      <td>[{'cast_id': 0, 'character': 'Thor Odinson', 'credit_id': '545d46a80e0a261fb...</td>\n",
              "      <td>[{'credit_id': '56a93fa4c3a36872db001e7a', 'department': 'Writing', 'gender'...</td>\n",
              "      <td>Action Adventure Fantasy Sci-Fi</td>\n",
              "      <td>Chris Hemsworth</td>\n",
              "      <td>Tom Hiddleston</td>\n",
              "      <td>Cate Blanchett</td>\n",
              "    </tr>\n",
              "    <tr>\n",
              "      <th>3</th>\n",
              "      <td>[{'id': 28, 'name': 'Action'}, {'id': 12, 'name': 'Adventure'}, {'id': 35, '...</td>\n",
              "      <td>283995</td>\n",
              "      <td>Guardians of the Galaxy Vol. 2</td>\n",
              "      <td>2017.0</td>\n",
              "      <td>[{'cast_id': 3, 'character': 'Peter Quill / Star-Lord', 'credit_id': '53dd76...</td>\n",
              "      <td>[{'credit_id': '59171547925141583c0315a6', 'department': 'Sound', 'gender': ...</td>\n",
              "      <td>Action Adventure Comedy Sci-Fi</td>\n",
              "      <td>Chris Pratt</td>\n",
              "      <td>Zoe Saldana</td>\n",
              "      <td>Dave Bautista</td>\n",
              "    </tr>\n",
              "    <tr>\n",
              "      <th>4</th>\n",
              "      <td>[{'id': 14, 'name': 'Fantasy'}, {'id': 28, 'name': 'Action'}, {'id': 12, 'na...</td>\n",
              "      <td>245842</td>\n",
              "      <td>The King's Daughter</td>\n",
              "      <td>2017.0</td>\n",
              "      <td>[{'cast_id': 0, 'character': 'King Louis XIV', 'credit_id': '5431dd580e0a265...</td>\n",
              "      <td>[{'credit_id': '5431de49c3a36825d300007e', 'department': 'Directing', 'gende...</td>\n",
              "      <td>Fantasy Action Adventure</td>\n",
              "      <td>Pierce Brosnan</td>\n",
              "      <td>William Hurt</td>\n",
              "      <td>Benjamin Walker</td>\n",
              "    </tr>\n",
              "    <tr>\n",
              "      <th>...</th>\n",
              "      <td>...</td>\n",
              "      <td>...</td>\n",
              "      <td>...</td>\n",
              "      <td>...</td>\n",
              "      <td>...</td>\n",
              "      <td>...</td>\n",
              "      <td>...</td>\n",
              "      <td>...</td>\n",
              "      <td>...</td>\n",
              "      <td>...</td>\n",
              "    </tr>\n",
              "    <tr>\n",
              "      <th>526</th>\n",
              "      <td>[{'id': 10749, 'name': 'Romance'}, {'id': 35, 'name': 'Comedy'}]</td>\n",
              "      <td>468707</td>\n",
              "      <td>Thick Lashes of Lauri Mäntyvaara</td>\n",
              "      <td>2017.0</td>\n",
              "      <td>[{'cast_id': 0, 'character': 'Satu', 'credit_id': '597e2086c3a368544001b0b1'...</td>\n",
              "      <td>[{'credit_id': '597e22f69251415d7801c74a', 'department': 'Directing', 'gende...</td>\n",
              "      <td>Romance Comedy</td>\n",
              "      <td>Inka Haapamäki</td>\n",
              "      <td>Rosa Honkonen</td>\n",
              "      <td>Tiitus Rantala</td>\n",
              "    </tr>\n",
              "    <tr>\n",
              "      <th>527</th>\n",
              "      <td>[{'id': 80, 'name': 'Crime'}, {'id': 35, 'name': 'Comedy'}, {'id': 28, 'name...</td>\n",
              "      <td>461297</td>\n",
              "      <td>Cop and a Half: New Recruit</td>\n",
              "      <td>2017.0</td>\n",
              "      <td>[{'cast_id': 0, 'character': 'Detective Simmons', 'credit_id': '593ba04e9251...</td>\n",
              "      <td>[{'credit_id': '593ba0c29251410593009be3', 'department': 'Writing', 'gender'...</td>\n",
              "      <td>Crime Comedy Action Family</td>\n",
              "      <td>Lou Diamond Phillips</td>\n",
              "      <td>Wallace Shawn</td>\n",
              "      <td>Gina Holden</td>\n",
              "    </tr>\n",
              "    <tr>\n",
              "      <th>528</th>\n",
              "      <td>[{'id': 10751, 'name': 'Family'}, {'id': 16, 'name': 'Animation'}, {'id': 10...</td>\n",
              "      <td>455661</td>\n",
              "      <td>In a Heartbeat</td>\n",
              "      <td>2017.0</td>\n",
              "      <td>[]</td>\n",
              "      <td>[{'credit_id': '5981a15c92514151e0011b51', 'department': 'Sound', 'gender': ...</td>\n",
              "      <td>Family Animation Romance Comedy</td>\n",
              "      <td>NaN</td>\n",
              "      <td>NaN</td>\n",
              "      <td>NaN</td>\n",
              "    </tr>\n",
              "    <tr>\n",
              "      <th>529</th>\n",
              "      <td>[{'id': 80, 'name': 'Crime'}, {'id': 18, 'name': 'Drama'}, {'id': 53, 'name'...</td>\n",
              "      <td>404604</td>\n",
              "      <td>Mom</td>\n",
              "      <td>2017.0</td>\n",
              "      <td>[{'cast_id': 1, 'character': 'Devki Sabarwal', 'credit_id': '577809adc3a3686...</td>\n",
              "      <td>[{'credit_id': '58ee55bbc3a3683df500bd0f', 'department': 'Sound', 'gender': ...</td>\n",
              "      <td>Crime Drama Thriller</td>\n",
              "      <td>Sridevi Kapoor</td>\n",
              "      <td>Sajal Ali</td>\n",
              "      <td>Akshaye Khanna</td>\n",
              "    </tr>\n",
              "    <tr>\n",
              "      <th>530</th>\n",
              "      <td>[]</td>\n",
              "      <td>461257</td>\n",
              "      <td>Queerama</td>\n",
              "      <td>2017.0</td>\n",
              "      <td>[]</td>\n",
              "      <td>[{'credit_id': '593e676c92514105b702e68e', 'department': 'Directing', 'gende...</td>\n",
              "      <td>NaN</td>\n",
              "      <td>NaN</td>\n",
              "      <td>NaN</td>\n",
              "      <td>NaN</td>\n",
              "    </tr>\n",
              "  </tbody>\n",
              "</table>\n",
              "<p>531 rows × 10 columns</p>\n",
              "</div>\n",
              "      <button class=\"colab-df-convert\" onclick=\"convertToInteractive('df-f790ea77-3714-4c07-a9c6-088771db92c1')\"\n",
              "              title=\"Convert this dataframe to an interactive table.\"\n",
              "              style=\"display:none;\">\n",
              "        \n",
              "  <svg xmlns=\"http://www.w3.org/2000/svg\" height=\"24px\"viewBox=\"0 0 24 24\"\n",
              "       width=\"24px\">\n",
              "    <path d=\"M0 0h24v24H0V0z\" fill=\"none\"/>\n",
              "    <path d=\"M18.56 5.44l.94 2.06.94-2.06 2.06-.94-2.06-.94-.94-2.06-.94 2.06-2.06.94zm-11 1L8.5 8.5l.94-2.06 2.06-.94-2.06-.94L8.5 2.5l-.94 2.06-2.06.94zm10 10l.94 2.06.94-2.06 2.06-.94-2.06-.94-.94-2.06-.94 2.06-2.06.94z\"/><path d=\"M17.41 7.96l-1.37-1.37c-.4-.4-.92-.59-1.43-.59-.52 0-1.04.2-1.43.59L10.3 9.45l-7.72 7.72c-.78.78-.78 2.05 0 2.83L4 21.41c.39.39.9.59 1.41.59.51 0 1.02-.2 1.41-.59l7.78-7.78 2.81-2.81c.8-.78.8-2.07 0-2.86zM5.41 20L4 18.59l7.72-7.72 1.47 1.35L5.41 20z\"/>\n",
              "  </svg>\n",
              "      </button>\n",
              "      \n",
              "  <style>\n",
              "    .colab-df-container {\n",
              "      display:flex;\n",
              "      flex-wrap:wrap;\n",
              "      gap: 12px;\n",
              "    }\n",
              "\n",
              "    .colab-df-convert {\n",
              "      background-color: #E8F0FE;\n",
              "      border: none;\n",
              "      border-radius: 50%;\n",
              "      cursor: pointer;\n",
              "      display: none;\n",
              "      fill: #1967D2;\n",
              "      height: 32px;\n",
              "      padding: 0 0 0 0;\n",
              "      width: 32px;\n",
              "    }\n",
              "\n",
              "    .colab-df-convert:hover {\n",
              "      background-color: #E2EBFA;\n",
              "      box-shadow: 0px 1px 2px rgba(60, 64, 67, 0.3), 0px 1px 3px 1px rgba(60, 64, 67, 0.15);\n",
              "      fill: #174EA6;\n",
              "    }\n",
              "\n",
              "    [theme=dark] .colab-df-convert {\n",
              "      background-color: #3B4455;\n",
              "      fill: #D2E3FC;\n",
              "    }\n",
              "\n",
              "    [theme=dark] .colab-df-convert:hover {\n",
              "      background-color: #434B5C;\n",
              "      box-shadow: 0px 1px 3px 1px rgba(0, 0, 0, 0.15);\n",
              "      filter: drop-shadow(0px 1px 2px rgba(0, 0, 0, 0.3));\n",
              "      fill: #FFFFFF;\n",
              "    }\n",
              "  </style>\n",
              "\n",
              "      <script>\n",
              "        const buttonEl =\n",
              "          document.querySelector('#df-f790ea77-3714-4c07-a9c6-088771db92c1 button.colab-df-convert');\n",
              "        buttonEl.style.display =\n",
              "          google.colab.kernel.accessAllowed ? 'block' : 'none';\n",
              "\n",
              "        async function convertToInteractive(key) {\n",
              "          const element = document.querySelector('#df-f790ea77-3714-4c07-a9c6-088771db92c1');\n",
              "          const dataTable =\n",
              "            await google.colab.kernel.invokeFunction('convertToInteractive',\n",
              "                                                     [key], {});\n",
              "          if (!dataTable) return;\n",
              "\n",
              "          const docLinkHtml = 'Like what you see? Visit the ' +\n",
              "            '<a target=\"_blank\" href=https://colab.research.google.com/notebooks/data_table.ipynb>data table notebook</a>'\n",
              "            + ' to learn more about interactive tables.';\n",
              "          element.innerHTML = '';\n",
              "          dataTable['output_type'] = 'display_data';\n",
              "          await google.colab.output.renderOutput(dataTable, element);\n",
              "          const docLink = document.createElement('div');\n",
              "          docLink.innerHTML = docLinkHtml;\n",
              "          element.appendChild(docLink);\n",
              "        }\n",
              "      </script>\n",
              "    </div>\n",
              "  </div>\n",
              "  "
            ]
          },
          "metadata": {},
          "execution_count": 49
        }
      ]
    },
    {
      "cell_type": "markdown",
      "source": [
        "**Converts the string into list**"
      ],
      "metadata": {
        "id": "UIplRUF6NnQ-"
      }
    },
    {
      "cell_type": "code",
      "source": [
        "#importing ast library\n",
        "import ast\n",
        "#literal_eval function has the functionality to convert list into string \n",
        "New_data['genres'] = New_data['genres'].map(lambda x: ast.literal_eval(x))\n",
        "New_data['cast'] = New_data['cast'].map(lambda x: ast.literal_eval(x))\n",
        "New_data['crew'] = New_data['crew'].map(lambda x: ast.literal_eval(x))"
      ],
      "metadata": {
        "id": "jQsvQIHcNnd5"
      },
      "execution_count": null,
      "outputs": []
    },
    {
      "cell_type": "markdown",
      "source": [
        "**Listing all the Genre names**"
      ],
      "metadata": {
        "id": "JNeJTx77PJ0J"
      }
    },
    {
      "cell_type": "code",
      "source": [
        "def genres_list(x):\n",
        "    genre = []\n",
        "    str1 = \" \"\n",
        "    for i in x:\n",
        "        if i.get('name') == 'Science Fiction':\n",
        "            scifi = 'Sci-Fi'\n",
        "            genre.append(scifi)\n",
        "        else:\n",
        "            genre.append(i.get('name'))\n",
        "    if genre == []:\n",
        "        return np.NaN\n",
        "    else:\n",
        "        return (str1.join(genre))"
      ],
      "metadata": {
        "id": "W-3LXCmyPKCa"
      },
      "execution_count": null,
      "outputs": []
    },
    {
      "cell_type": "code",
      "source": [
        "New_data['genres_list'] = New_data['genres'].map(lambda x: genres_list(x))"
      ],
      "metadata": {
        "id": "UuvaKz9cRUl0"
      },
      "execution_count": null,
      "outputs": []
    },
    {
      "cell_type": "markdown",
      "source": [
        "**Displaying all the Genres**"
      ],
      "metadata": {
        "id": "Q8ukABFfVLJK"
      }
    },
    {
      "cell_type": "code",
      "source": [
        "New_data['genres_list']"
      ],
      "metadata": {
        "colab": {
          "base_uri": "https://localhost:8080/"
        },
        "id": "KDRgmiIRVKL3",
        "outputId": "fc250e63-61ea-44ba-99dc-83c6c134b62d"
      },
      "execution_count": null,
      "outputs": [
        {
          "output_type": "execute_result",
          "data": {
            "text/plain": [
              "0      Adventure Action Fantasy Comedy\n",
              "1      Action Adventure Fantasy Sci-Fi\n",
              "2      Action Adventure Fantasy Sci-Fi\n",
              "3       Action Adventure Comedy Sci-Fi\n",
              "4             Fantasy Action Adventure\n",
              "                    ...               \n",
              "526                     Romance Comedy\n",
              "527         Crime Comedy Action Family\n",
              "528    Family Animation Romance Comedy\n",
              "529               Crime Drama Thriller\n",
              "530                                NaN\n",
              "Name: genres_list, Length: 531, dtype: object"
            ]
          },
          "metadata": {},
          "execution_count": 32
        }
      ]
    },
    {
      "cell_type": "markdown",
      "source": [
        "**Listing all the actor names**"
      ],
      "metadata": {
        "id": "4uvHNQm6VakI"
      }
    },
    {
      "cell_type": "markdown",
      "source": [
        "**Actor 1**"
      ],
      "metadata": {
        "id": "w7K9lnsAWJk9"
      }
    },
    {
      "cell_type": "code",
      "source": [
        "def actors_list(x):\n",
        "    actor1 = []\n",
        "    for i in x:\n",
        "        actor1.append(i.get('name'))\n",
        "    if actor1 == []:\n",
        "        return np.NaN\n",
        "    else:\n",
        "        return (actor1[0])"
      ],
      "metadata": {
        "id": "hWhIl5wpVaw-"
      },
      "execution_count": null,
      "outputs": []
    },
    {
      "cell_type": "code",
      "source": [
        "New_data['actor_1_name'] = New_data['cast'].map(lambda x: actors_list(x))"
      ],
      "metadata": {
        "id": "eRqElLdJVa6e"
      },
      "execution_count": null,
      "outputs": []
    },
    {
      "cell_type": "code",
      "source": [
        "New_data['actor_1_name']"
      ],
      "metadata": {
        "colab": {
          "base_uri": "https://localhost:8080/"
        },
        "id": "GgMrYm_xWtxk",
        "outputId": "a6a1205a-c8fc-4127-9a45-c6f7b7b80186"
      },
      "execution_count": null,
      "outputs": [
        {
          "output_type": "execute_result",
          "data": {
            "text/plain": [
              "0               Johnny Depp\n",
              "1               Ben Affleck\n",
              "2           Chris Hemsworth\n",
              "3               Chris Pratt\n",
              "4            Pierce Brosnan\n",
              "               ...         \n",
              "526          Inka Haapamäki\n",
              "527    Lou Diamond Phillips\n",
              "528                     NaN\n",
              "529          Sridevi Kapoor\n",
              "530                     NaN\n",
              "Name: actor_1_name, Length: 531, dtype: object"
            ]
          },
          "metadata": {},
          "execution_count": 38
        }
      ]
    },
    {
      "cell_type": "markdown",
      "source": [
        "**Actor 2**"
      ],
      "metadata": {
        "id": "XFFMOm3lWM0a"
      }
    },
    {
      "cell_type": "code",
      "source": [
        "def actors2_list(x):\n",
        "    actor2 = []\n",
        "    for i in x:\n",
        "        actor2.append(i.get('name'))\n",
        "    if actor2 == [] or len(actor2)<=1:\n",
        "        return np.NaN\n",
        "    else:\n",
        "        return (actor2[1])"
      ],
      "metadata": {
        "id": "fJuqsGXGWPGP"
      },
      "execution_count": null,
      "outputs": []
    },
    {
      "cell_type": "code",
      "source": [
        "New_data['actor_2_name'] = New_data['cast'].map(lambda x: actors2_list(x))"
      ],
      "metadata": {
        "id": "A-N_U9lUWpwS"
      },
      "execution_count": null,
      "outputs": []
    },
    {
      "cell_type": "code",
      "source": [
        "New_data['actor_2_name']"
      ],
      "metadata": {
        "colab": {
          "base_uri": "https://localhost:8080/"
        },
        "id": "WHwz1wDSWqXa",
        "outputId": "9c9dfe09-010d-48ff-a32d-93cd4baccb42"
      },
      "execution_count": null,
      "outputs": [
        {
          "output_type": "execute_result",
          "data": {
            "text/plain": [
              "0       Javier Bardem\n",
              "1        Henry Cavill\n",
              "2      Tom Hiddleston\n",
              "3         Zoe Saldana\n",
              "4        William Hurt\n",
              "            ...      \n",
              "526     Rosa Honkonen\n",
              "527     Wallace Shawn\n",
              "528               NaN\n",
              "529         Sajal Ali\n",
              "530               NaN\n",
              "Name: actor_2_name, Length: 531, dtype: object"
            ]
          },
          "metadata": {},
          "execution_count": 44
        }
      ]
    },
    {
      "cell_type": "markdown",
      "source": [
        "**Actor 3**"
      ],
      "metadata": {
        "id": "SHZ0O96aXQKc"
      }
    },
    {
      "cell_type": "code",
      "source": [
        "def actor3_list(x):\n",
        "    actor3 = []\n",
        "    for i in x:\n",
        "        actor3.append(i.get('name'))\n",
        "    if actor3 == [] or len(actor3)<=2:\n",
        "        return np.NaN\n",
        "    else:\n",
        "        return (actor3[2])"
      ],
      "metadata": {
        "id": "wF9FmU6aXVZQ"
      },
      "execution_count": null,
      "outputs": []
    },
    {
      "cell_type": "code",
      "source": [
        "New_data['actor_3_name'] = New_data['cast'].map(lambda x: actor3_list(x))"
      ],
      "metadata": {
        "id": "N0_SP34TYH0X"
      },
      "execution_count": null,
      "outputs": []
    },
    {
      "cell_type": "code",
      "source": [
        "New_data['actor_3_name']"
      ],
      "metadata": {
        "colab": {
          "base_uri": "https://localhost:8080/"
        },
        "id": "x3BKmGnxYbOf",
        "outputId": "b7207087-13e0-4c8f-c86c-661182c59920"
      },
      "execution_count": null,
      "outputs": [
        {
          "output_type": "execute_result",
          "data": {
            "text/plain": [
              "0        Geoffrey Rush\n",
              "1            Gal Gadot\n",
              "2       Cate Blanchett\n",
              "3        Dave Bautista\n",
              "4      Benjamin Walker\n",
              "            ...       \n",
              "526     Tiitus Rantala\n",
              "527        Gina Holden\n",
              "528                NaN\n",
              "529     Akshaye Khanna\n",
              "530                NaN\n",
              "Name: actor_3_name, Length: 531, dtype: object"
            ]
          },
          "metadata": {},
          "execution_count": 48
        }
      ]
    },
    {
      "cell_type": "markdown",
      "source": [
        "**Listing all the directors name**"
      ],
      "metadata": {
        "id": "LpyFGkjiY_9f"
      }
    },
    {
      "cell_type": "code",
      "source": [
        "def directors_list(x):\n",
        "    director = []\n",
        "    st = \" \"\n",
        "    for i in x:\n",
        "        if i.get('job') == 'Director':\n",
        "            director.append(i.get('name'))\n",
        "    if director == []:\n",
        "        return np.NaN\n",
        "    else:\n",
        "        return (st.join(director))"
      ],
      "metadata": {
        "id": "Rb3C4bdVYkGn"
      },
      "execution_count": null,
      "outputs": []
    },
    {
      "cell_type": "code",
      "source": [
        "New_data['director_name'] = New_data['crew'].map(lambda x: directors_list(x))"
      ],
      "metadata": {
        "id": "khiJo3QSZFxY"
      },
      "execution_count": null,
      "outputs": []
    },
    {
      "cell_type": "code",
      "source": [
        "New_data['director_name']"
      ],
      "metadata": {
        "colab": {
          "base_uri": "https://localhost:8080/"
        },
        "id": "mv16io34ZIfy",
        "outputId": "9c1402df-c72c-457a-f436-95771bd6707e"
      },
      "execution_count": null,
      "outputs": [
        {
          "output_type": "execute_result",
          "data": {
            "text/plain": [
              "0      Joachim Rønning Espen Sandberg\n",
              "1                         Zack Snyder\n",
              "2                       Taika Waititi\n",
              "3                          James Gunn\n",
              "4                       Sean McNamara\n",
              "                    ...              \n",
              "526                  Hannaleena Hauru\n",
              "527             Jonathan A. Rosenbaum\n",
              "528          Beth David Esteban Bravo\n",
              "529                      Ravi Udyawar\n",
              "530                     Daisy Asquith\n",
              "Name: director_name, Length: 531, dtype: object"
            ]
          },
          "metadata": {},
          "execution_count": 52
        }
      ]
    },
    {
      "cell_type": "markdown",
      "source": [
        "**Create a table with the only necessary datas**"
      ],
      "metadata": {
        "id": "UFATcLbiZjdq"
      }
    },
    {
      "cell_type": "code",
      "source": [
        "movie = New_data.loc[:,['director_name','actor_1_name','actor_2_name','actor_3_name','genres_list','title']]"
      ],
      "metadata": {
        "id": "pcbKYzA0Zjqn"
      },
      "execution_count": null,
      "outputs": []
    },
    {
      "cell_type": "code",
      "source": [
        "movie.head(5)"
      ],
      "metadata": {
        "id": "O3TaGNxBaQD5",
        "colab": {
          "base_uri": "https://localhost:8080/",
          "height": 302
        },
        "outputId": "d512f97a-3b86-4954-ab91-ae707189d7a5"
      },
      "execution_count": null,
      "outputs": [
        {
          "output_type": "execute_result",
          "data": {
            "text/plain": [
              "                    director_name     actor_1_name    actor_2_name  \\\n",
              "0  Joachim Rønning Espen Sandberg      Johnny Depp   Javier Bardem   \n",
              "1                     Zack Snyder      Ben Affleck    Henry Cavill   \n",
              "2                   Taika Waititi  Chris Hemsworth  Tom Hiddleston   \n",
              "3                      James Gunn      Chris Pratt     Zoe Saldana   \n",
              "4                   Sean McNamara   Pierce Brosnan    William Hurt   \n",
              "\n",
              "      actor_3_name                      genres_list  \\\n",
              "0    Geoffrey Rush  Adventure Action Fantasy Comedy   \n",
              "1        Gal Gadot  Action Adventure Fantasy Sci-Fi   \n",
              "2   Cate Blanchett  Action Adventure Fantasy Sci-Fi   \n",
              "3    Dave Bautista   Action Adventure Comedy Sci-Fi   \n",
              "4  Benjamin Walker         Fantasy Action Adventure   \n",
              "\n",
              "                                              title  \n",
              "0  Pirates of the Caribbean: Dead Men Tell No Tales  \n",
              "1                                    Justice League  \n",
              "2                                    Thor: Ragnarok  \n",
              "3                    Guardians of the Galaxy Vol. 2  \n",
              "4                               The King's Daughter  "
            ],
            "text/html": [
              "\n",
              "  <div id=\"df-36105e62-fc7f-45b0-ab3f-145884688b2a\">\n",
              "    <div class=\"colab-df-container\">\n",
              "      <div>\n",
              "<style scoped>\n",
              "    .dataframe tbody tr th:only-of-type {\n",
              "        vertical-align: middle;\n",
              "    }\n",
              "\n",
              "    .dataframe tbody tr th {\n",
              "        vertical-align: top;\n",
              "    }\n",
              "\n",
              "    .dataframe thead th {\n",
              "        text-align: right;\n",
              "    }\n",
              "</style>\n",
              "<table border=\"1\" class=\"dataframe\">\n",
              "  <thead>\n",
              "    <tr style=\"text-align: right;\">\n",
              "      <th></th>\n",
              "      <th>director_name</th>\n",
              "      <th>actor_1_name</th>\n",
              "      <th>actor_2_name</th>\n",
              "      <th>actor_3_name</th>\n",
              "      <th>genres_list</th>\n",
              "      <th>title</th>\n",
              "    </tr>\n",
              "  </thead>\n",
              "  <tbody>\n",
              "    <tr>\n",
              "      <th>0</th>\n",
              "      <td>Joachim Rønning Espen Sandberg</td>\n",
              "      <td>Johnny Depp</td>\n",
              "      <td>Javier Bardem</td>\n",
              "      <td>Geoffrey Rush</td>\n",
              "      <td>Adventure Action Fantasy Comedy</td>\n",
              "      <td>Pirates of the Caribbean: Dead Men Tell No Tales</td>\n",
              "    </tr>\n",
              "    <tr>\n",
              "      <th>1</th>\n",
              "      <td>Zack Snyder</td>\n",
              "      <td>Ben Affleck</td>\n",
              "      <td>Henry Cavill</td>\n",
              "      <td>Gal Gadot</td>\n",
              "      <td>Action Adventure Fantasy Sci-Fi</td>\n",
              "      <td>Justice League</td>\n",
              "    </tr>\n",
              "    <tr>\n",
              "      <th>2</th>\n",
              "      <td>Taika Waititi</td>\n",
              "      <td>Chris Hemsworth</td>\n",
              "      <td>Tom Hiddleston</td>\n",
              "      <td>Cate Blanchett</td>\n",
              "      <td>Action Adventure Fantasy Sci-Fi</td>\n",
              "      <td>Thor: Ragnarok</td>\n",
              "    </tr>\n",
              "    <tr>\n",
              "      <th>3</th>\n",
              "      <td>James Gunn</td>\n",
              "      <td>Chris Pratt</td>\n",
              "      <td>Zoe Saldana</td>\n",
              "      <td>Dave Bautista</td>\n",
              "      <td>Action Adventure Comedy Sci-Fi</td>\n",
              "      <td>Guardians of the Galaxy Vol. 2</td>\n",
              "    </tr>\n",
              "    <tr>\n",
              "      <th>4</th>\n",
              "      <td>Sean McNamara</td>\n",
              "      <td>Pierce Brosnan</td>\n",
              "      <td>William Hurt</td>\n",
              "      <td>Benjamin Walker</td>\n",
              "      <td>Fantasy Action Adventure</td>\n",
              "      <td>The King's Daughter</td>\n",
              "    </tr>\n",
              "  </tbody>\n",
              "</table>\n",
              "</div>\n",
              "      <button class=\"colab-df-convert\" onclick=\"convertToInteractive('df-36105e62-fc7f-45b0-ab3f-145884688b2a')\"\n",
              "              title=\"Convert this dataframe to an interactive table.\"\n",
              "              style=\"display:none;\">\n",
              "        \n",
              "  <svg xmlns=\"http://www.w3.org/2000/svg\" height=\"24px\"viewBox=\"0 0 24 24\"\n",
              "       width=\"24px\">\n",
              "    <path d=\"M0 0h24v24H0V0z\" fill=\"none\"/>\n",
              "    <path d=\"M18.56 5.44l.94 2.06.94-2.06 2.06-.94-2.06-.94-.94-2.06-.94 2.06-2.06.94zm-11 1L8.5 8.5l.94-2.06 2.06-.94-2.06-.94L8.5 2.5l-.94 2.06-2.06.94zm10 10l.94 2.06.94-2.06 2.06-.94-2.06-.94-.94-2.06-.94 2.06-2.06.94z\"/><path d=\"M17.41 7.96l-1.37-1.37c-.4-.4-.92-.59-1.43-.59-.52 0-1.04.2-1.43.59L10.3 9.45l-7.72 7.72c-.78.78-.78 2.05 0 2.83L4 21.41c.39.39.9.59 1.41.59.51 0 1.02-.2 1.41-.59l7.78-7.78 2.81-2.81c.8-.78.8-2.07 0-2.86zM5.41 20L4 18.59l7.72-7.72 1.47 1.35L5.41 20z\"/>\n",
              "  </svg>\n",
              "      </button>\n",
              "      \n",
              "  <style>\n",
              "    .colab-df-container {\n",
              "      display:flex;\n",
              "      flex-wrap:wrap;\n",
              "      gap: 12px;\n",
              "    }\n",
              "\n",
              "    .colab-df-convert {\n",
              "      background-color: #E8F0FE;\n",
              "      border: none;\n",
              "      border-radius: 50%;\n",
              "      cursor: pointer;\n",
              "      display: none;\n",
              "      fill: #1967D2;\n",
              "      height: 32px;\n",
              "      padding: 0 0 0 0;\n",
              "      width: 32px;\n",
              "    }\n",
              "\n",
              "    .colab-df-convert:hover {\n",
              "      background-color: #E2EBFA;\n",
              "      box-shadow: 0px 1px 2px rgba(60, 64, 67, 0.3), 0px 1px 3px 1px rgba(60, 64, 67, 0.15);\n",
              "      fill: #174EA6;\n",
              "    }\n",
              "\n",
              "    [theme=dark] .colab-df-convert {\n",
              "      background-color: #3B4455;\n",
              "      fill: #D2E3FC;\n",
              "    }\n",
              "\n",
              "    [theme=dark] .colab-df-convert:hover {\n",
              "      background-color: #434B5C;\n",
              "      box-shadow: 0px 1px 3px 1px rgba(0, 0, 0, 0.15);\n",
              "      filter: drop-shadow(0px 1px 2px rgba(0, 0, 0, 0.3));\n",
              "      fill: #FFFFFF;\n",
              "    }\n",
              "  </style>\n",
              "\n",
              "      <script>\n",
              "        const buttonEl =\n",
              "          document.querySelector('#df-36105e62-fc7f-45b0-ab3f-145884688b2a button.colab-df-convert');\n",
              "        buttonEl.style.display =\n",
              "          google.colab.kernel.accessAllowed ? 'block' : 'none';\n",
              "\n",
              "        async function convertToInteractive(key) {\n",
              "          const element = document.querySelector('#df-36105e62-fc7f-45b0-ab3f-145884688b2a');\n",
              "          const dataTable =\n",
              "            await google.colab.kernel.invokeFunction('convertToInteractive',\n",
              "                                                     [key], {});\n",
              "          if (!dataTable) return;\n",
              "\n",
              "          const docLinkHtml = 'Like what you see? Visit the ' +\n",
              "            '<a target=\"_blank\" href=https://colab.research.google.com/notebooks/data_table.ipynb>data table notebook</a>'\n",
              "            + ' to learn more about interactive tables.';\n",
              "          element.innerHTML = '';\n",
              "          dataTable['output_type'] = 'display_data';\n",
              "          await google.colab.output.renderOutput(dataTable, element);\n",
              "          const docLink = document.createElement('div');\n",
              "          docLink.innerHTML = docLinkHtml;\n",
              "          element.appendChild(docLink);\n",
              "        }\n",
              "      </script>\n",
              "    </div>\n",
              "  </div>\n",
              "  "
            ]
          },
          "metadata": {},
          "execution_count": 55
        }
      ]
    },
    {
      "cell_type": "markdown",
      "source": [
        "**Checking the Null Values**"
      ],
      "metadata": {
        "id": "lGoSM_efalzq"
      }
    },
    {
      "cell_type": "code",
      "source": [
        "movie.isna().sum()"
      ],
      "metadata": {
        "id": "-Q65inPWamAb",
        "colab": {
          "base_uri": "https://localhost:8080/"
        },
        "outputId": "4e3c7384-0e05-4a23-d8af-84fbb7920388"
      },
      "execution_count": null,
      "outputs": [
        {
          "output_type": "execute_result",
          "data": {
            "text/plain": [
              "director_name     4\n",
              "actor_1_name     22\n",
              "actor_2_name     55\n",
              "actor_3_name     70\n",
              "genres_list       7\n",
              "title             0\n",
              "dtype: int64"
            ]
          },
          "metadata": {},
          "execution_count": 56
        }
      ]
    },
    {
      "cell_type": "markdown",
      "source": [
        "**Drop the Null values**"
      ],
      "metadata": {
        "id": "mtUF_3WdaqbP"
      }
    },
    {
      "cell_type": "code",
      "source": [
        "movie = movie.dropna(how='any')"
      ],
      "metadata": {
        "id": "d8FdjvF-aqyY"
      },
      "execution_count": null,
      "outputs": []
    },
    {
      "cell_type": "markdown",
      "source": [
        "**Renaming Some columns**"
      ],
      "metadata": {
        "id": "D3mHS0h7blIm"
      }
    },
    {
      "cell_type": "code",
      "source": [
        "movie = movie.rename(columns={'genres_list':'genres'})\n",
        "movie = movie.rename(columns={'title':'movie_title'})"
      ],
      "metadata": {
        "id": "N2PQHa6ablVa"
      },
      "execution_count": null,
      "outputs": []
    },
    {
      "cell_type": "markdown",
      "source": [
        "**Modifying Movie title to lower case**"
      ],
      "metadata": {
        "id": "XzY8pWWGbqL1"
      }
    },
    {
      "cell_type": "code",
      "source": [
        "movie['movie_title'] = movie['movie_title'].str.lower()"
      ],
      "metadata": {
        "id": "JduLZQ74bqbw"
      },
      "execution_count": null,
      "outputs": []
    },
    {
      "cell_type": "markdown",
      "source": [
        "**Combining al the columns(except Movie Title) to generate a new coloumn**"
      ],
      "metadata": {
        "id": "90zsOcbGcb_o"
      }
    },
    {
      "cell_type": "code",
      "source": [
        "movie['combined'] = movie['actor_1_name'] + ' ' + movie['actor_2_name'] + ' '+ movie['actor_3_name'] + ' '+ movie['director_name'] +' ' + movie['genres']"
      ],
      "metadata": {
        "id": "0iAlHPizccNi"
      },
      "execution_count": null,
      "outputs": []
    },
    {
      "cell_type": "code",
      "source": [
        "movie"
      ],
      "metadata": {
        "colab": {
          "base_uri": "https://localhost:8080/",
          "height": 815
        },
        "id": "l8JKOkcfcvVg",
        "outputId": "f18a368b-f0da-458e-da37-2a8ae7804f61"
      },
      "execution_count": null,
      "outputs": [
        {
          "output_type": "execute_result",
          "data": {
            "text/plain": [
              "                      director_name          actor_1_name  \\\n",
              "0    Joachim Rønning Espen Sandberg           Johnny Depp   \n",
              "1                       Zack Snyder           Ben Affleck   \n",
              "2                     Taika Waititi       Chris Hemsworth   \n",
              "3                        James Gunn           Chris Pratt   \n",
              "4                     Sean McNamara        Pierce Brosnan   \n",
              "..                              ...                   ...   \n",
              "524                     Jim Strouse      Jessica Williams   \n",
              "525                     Farhad Mann         Adelaide Kane   \n",
              "526                Hannaleena Hauru        Inka Haapamäki   \n",
              "527           Jonathan A. Rosenbaum  Lou Diamond Phillips   \n",
              "529                    Ravi Udyawar        Sridevi Kapoor   \n",
              "\n",
              "               actor_2_name       actor_3_name  \\\n",
              "0             Javier Bardem      Geoffrey Rush   \n",
              "1              Henry Cavill          Gal Gadot   \n",
              "2            Tom Hiddleston     Cate Blanchett   \n",
              "3               Zoe Saldana      Dave Bautista   \n",
              "4              William Hurt    Benjamin Walker   \n",
              "..                      ...                ...   \n",
              "524            Chris O'Dowd    Keith Stanfield   \n",
              "525  Benjamin Hollingsworth  Jean Louisa Kelly   \n",
              "526           Rosa Honkonen     Tiitus Rantala   \n",
              "527           Wallace Shawn        Gina Holden   \n",
              "529               Sajal Ali     Akshaye Khanna   \n",
              "\n",
              "                              genres  \\\n",
              "0    Adventure Action Fantasy Comedy   \n",
              "1    Action Adventure Fantasy Sci-Fi   \n",
              "2    Action Adventure Fantasy Sci-Fi   \n",
              "3     Action Adventure Comedy Sci-Fi   \n",
              "4           Fantasy Action Adventure   \n",
              "..                               ...   \n",
              "524                   Romance Comedy   \n",
              "525                          Romance   \n",
              "526                   Romance Comedy   \n",
              "527       Crime Comedy Action Family   \n",
              "529             Crime Drama Thriller   \n",
              "\n",
              "                                          movie_title  \\\n",
              "0    pirates of the caribbean: dead men tell no tales   \n",
              "1                                      justice league   \n",
              "2                                      thor: ragnarok   \n",
              "3                      guardians of the galaxy vol. 2   \n",
              "4                                 the king's daughter   \n",
              "..                                                ...   \n",
              "524                      the incredible jessica james   \n",
              "525                                 can't buy my love   \n",
              "526                  thick lashes of lauri mäntyvaara   \n",
              "527                       cop and a half: new recruit   \n",
              "529                                               mom   \n",
              "\n",
              "                                                                            combined  \n",
              "0    Johnny Depp Javier Bardem Geoffrey Rush Joachim Rønning Espen Sandberg Adven...  \n",
              "1     Ben Affleck Henry Cavill Gal Gadot Zack Snyder Action Adventure Fantasy Sci-Fi  \n",
              "2    Chris Hemsworth Tom Hiddleston Cate Blanchett Taika Waititi Action Adventure...  \n",
              "3    Chris Pratt Zoe Saldana Dave Bautista James Gunn Action Adventure Comedy Sci-Fi  \n",
              "4    Pierce Brosnan William Hurt Benjamin Walker Sean McNamara Fantasy Action Adv...  \n",
              "..                                                                               ...  \n",
              "524         Jessica Williams Chris O'Dowd Keith Stanfield Jim Strouse Romance Comedy  \n",
              "525       Adelaide Kane Benjamin Hollingsworth Jean Louisa Kelly Farhad Mann Romance  \n",
              "526      Inka Haapamäki Rosa Honkonen Tiitus Rantala Hannaleena Hauru Romance Comedy  \n",
              "527  Lou Diamond Phillips Wallace Shawn Gina Holden Jonathan A. Rosenbaum Crime C...  \n",
              "529        Sridevi Kapoor Sajal Ali Akshaye Khanna Ravi Udyawar Crime Drama Thriller  \n",
              "\n",
              "[458 rows x 7 columns]"
            ],
            "text/html": [
              "\n",
              "  <div id=\"df-af9c1e67-fb44-4809-bb28-3183d6fd2470\">\n",
              "    <div class=\"colab-df-container\">\n",
              "      <div>\n",
              "<style scoped>\n",
              "    .dataframe tbody tr th:only-of-type {\n",
              "        vertical-align: middle;\n",
              "    }\n",
              "\n",
              "    .dataframe tbody tr th {\n",
              "        vertical-align: top;\n",
              "    }\n",
              "\n",
              "    .dataframe thead th {\n",
              "        text-align: right;\n",
              "    }\n",
              "</style>\n",
              "<table border=\"1\" class=\"dataframe\">\n",
              "  <thead>\n",
              "    <tr style=\"text-align: right;\">\n",
              "      <th></th>\n",
              "      <th>director_name</th>\n",
              "      <th>actor_1_name</th>\n",
              "      <th>actor_2_name</th>\n",
              "      <th>actor_3_name</th>\n",
              "      <th>genres</th>\n",
              "      <th>movie_title</th>\n",
              "      <th>combined</th>\n",
              "    </tr>\n",
              "  </thead>\n",
              "  <tbody>\n",
              "    <tr>\n",
              "      <th>0</th>\n",
              "      <td>Joachim Rønning Espen Sandberg</td>\n",
              "      <td>Johnny Depp</td>\n",
              "      <td>Javier Bardem</td>\n",
              "      <td>Geoffrey Rush</td>\n",
              "      <td>Adventure Action Fantasy Comedy</td>\n",
              "      <td>pirates of the caribbean: dead men tell no tales</td>\n",
              "      <td>Johnny Depp Javier Bardem Geoffrey Rush Joachim Rønning Espen Sandberg Adven...</td>\n",
              "    </tr>\n",
              "    <tr>\n",
              "      <th>1</th>\n",
              "      <td>Zack Snyder</td>\n",
              "      <td>Ben Affleck</td>\n",
              "      <td>Henry Cavill</td>\n",
              "      <td>Gal Gadot</td>\n",
              "      <td>Action Adventure Fantasy Sci-Fi</td>\n",
              "      <td>justice league</td>\n",
              "      <td>Ben Affleck Henry Cavill Gal Gadot Zack Snyder Action Adventure Fantasy Sci-Fi</td>\n",
              "    </tr>\n",
              "    <tr>\n",
              "      <th>2</th>\n",
              "      <td>Taika Waititi</td>\n",
              "      <td>Chris Hemsworth</td>\n",
              "      <td>Tom Hiddleston</td>\n",
              "      <td>Cate Blanchett</td>\n",
              "      <td>Action Adventure Fantasy Sci-Fi</td>\n",
              "      <td>thor: ragnarok</td>\n",
              "      <td>Chris Hemsworth Tom Hiddleston Cate Blanchett Taika Waititi Action Adventure...</td>\n",
              "    </tr>\n",
              "    <tr>\n",
              "      <th>3</th>\n",
              "      <td>James Gunn</td>\n",
              "      <td>Chris Pratt</td>\n",
              "      <td>Zoe Saldana</td>\n",
              "      <td>Dave Bautista</td>\n",
              "      <td>Action Adventure Comedy Sci-Fi</td>\n",
              "      <td>guardians of the galaxy vol. 2</td>\n",
              "      <td>Chris Pratt Zoe Saldana Dave Bautista James Gunn Action Adventure Comedy Sci-Fi</td>\n",
              "    </tr>\n",
              "    <tr>\n",
              "      <th>4</th>\n",
              "      <td>Sean McNamara</td>\n",
              "      <td>Pierce Brosnan</td>\n",
              "      <td>William Hurt</td>\n",
              "      <td>Benjamin Walker</td>\n",
              "      <td>Fantasy Action Adventure</td>\n",
              "      <td>the king's daughter</td>\n",
              "      <td>Pierce Brosnan William Hurt Benjamin Walker Sean McNamara Fantasy Action Adv...</td>\n",
              "    </tr>\n",
              "    <tr>\n",
              "      <th>...</th>\n",
              "      <td>...</td>\n",
              "      <td>...</td>\n",
              "      <td>...</td>\n",
              "      <td>...</td>\n",
              "      <td>...</td>\n",
              "      <td>...</td>\n",
              "      <td>...</td>\n",
              "    </tr>\n",
              "    <tr>\n",
              "      <th>524</th>\n",
              "      <td>Jim Strouse</td>\n",
              "      <td>Jessica Williams</td>\n",
              "      <td>Chris O'Dowd</td>\n",
              "      <td>Keith Stanfield</td>\n",
              "      <td>Romance Comedy</td>\n",
              "      <td>the incredible jessica james</td>\n",
              "      <td>Jessica Williams Chris O'Dowd Keith Stanfield Jim Strouse Romance Comedy</td>\n",
              "    </tr>\n",
              "    <tr>\n",
              "      <th>525</th>\n",
              "      <td>Farhad Mann</td>\n",
              "      <td>Adelaide Kane</td>\n",
              "      <td>Benjamin Hollingsworth</td>\n",
              "      <td>Jean Louisa Kelly</td>\n",
              "      <td>Romance</td>\n",
              "      <td>can't buy my love</td>\n",
              "      <td>Adelaide Kane Benjamin Hollingsworth Jean Louisa Kelly Farhad Mann Romance</td>\n",
              "    </tr>\n",
              "    <tr>\n",
              "      <th>526</th>\n",
              "      <td>Hannaleena Hauru</td>\n",
              "      <td>Inka Haapamäki</td>\n",
              "      <td>Rosa Honkonen</td>\n",
              "      <td>Tiitus Rantala</td>\n",
              "      <td>Romance Comedy</td>\n",
              "      <td>thick lashes of lauri mäntyvaara</td>\n",
              "      <td>Inka Haapamäki Rosa Honkonen Tiitus Rantala Hannaleena Hauru Romance Comedy</td>\n",
              "    </tr>\n",
              "    <tr>\n",
              "      <th>527</th>\n",
              "      <td>Jonathan A. Rosenbaum</td>\n",
              "      <td>Lou Diamond Phillips</td>\n",
              "      <td>Wallace Shawn</td>\n",
              "      <td>Gina Holden</td>\n",
              "      <td>Crime Comedy Action Family</td>\n",
              "      <td>cop and a half: new recruit</td>\n",
              "      <td>Lou Diamond Phillips Wallace Shawn Gina Holden Jonathan A. Rosenbaum Crime C...</td>\n",
              "    </tr>\n",
              "    <tr>\n",
              "      <th>529</th>\n",
              "      <td>Ravi Udyawar</td>\n",
              "      <td>Sridevi Kapoor</td>\n",
              "      <td>Sajal Ali</td>\n",
              "      <td>Akshaye Khanna</td>\n",
              "      <td>Crime Drama Thriller</td>\n",
              "      <td>mom</td>\n",
              "      <td>Sridevi Kapoor Sajal Ali Akshaye Khanna Ravi Udyawar Crime Drama Thriller</td>\n",
              "    </tr>\n",
              "  </tbody>\n",
              "</table>\n",
              "<p>458 rows × 7 columns</p>\n",
              "</div>\n",
              "      <button class=\"colab-df-convert\" onclick=\"convertToInteractive('df-af9c1e67-fb44-4809-bb28-3183d6fd2470')\"\n",
              "              title=\"Convert this dataframe to an interactive table.\"\n",
              "              style=\"display:none;\">\n",
              "        \n",
              "  <svg xmlns=\"http://www.w3.org/2000/svg\" height=\"24px\"viewBox=\"0 0 24 24\"\n",
              "       width=\"24px\">\n",
              "    <path d=\"M0 0h24v24H0V0z\" fill=\"none\"/>\n",
              "    <path d=\"M18.56 5.44l.94 2.06.94-2.06 2.06-.94-2.06-.94-.94-2.06-.94 2.06-2.06.94zm-11 1L8.5 8.5l.94-2.06 2.06-.94-2.06-.94L8.5 2.5l-.94 2.06-2.06.94zm10 10l.94 2.06.94-2.06 2.06-.94-2.06-.94-.94-2.06-.94 2.06-2.06.94z\"/><path d=\"M17.41 7.96l-1.37-1.37c-.4-.4-.92-.59-1.43-.59-.52 0-1.04.2-1.43.59L10.3 9.45l-7.72 7.72c-.78.78-.78 2.05 0 2.83L4 21.41c.39.39.9.59 1.41.59.51 0 1.02-.2 1.41-.59l7.78-7.78 2.81-2.81c.8-.78.8-2.07 0-2.86zM5.41 20L4 18.59l7.72-7.72 1.47 1.35L5.41 20z\"/>\n",
              "  </svg>\n",
              "      </button>\n",
              "      \n",
              "  <style>\n",
              "    .colab-df-container {\n",
              "      display:flex;\n",
              "      flex-wrap:wrap;\n",
              "      gap: 12px;\n",
              "    }\n",
              "\n",
              "    .colab-df-convert {\n",
              "      background-color: #E8F0FE;\n",
              "      border: none;\n",
              "      border-radius: 50%;\n",
              "      cursor: pointer;\n",
              "      display: none;\n",
              "      fill: #1967D2;\n",
              "      height: 32px;\n",
              "      padding: 0 0 0 0;\n",
              "      width: 32px;\n",
              "    }\n",
              "\n",
              "    .colab-df-convert:hover {\n",
              "      background-color: #E2EBFA;\n",
              "      box-shadow: 0px 1px 2px rgba(60, 64, 67, 0.3), 0px 1px 3px 1px rgba(60, 64, 67, 0.15);\n",
              "      fill: #174EA6;\n",
              "    }\n",
              "\n",
              "    [theme=dark] .colab-df-convert {\n",
              "      background-color: #3B4455;\n",
              "      fill: #D2E3FC;\n",
              "    }\n",
              "\n",
              "    [theme=dark] .colab-df-convert:hover {\n",
              "      background-color: #434B5C;\n",
              "      box-shadow: 0px 1px 3px 1px rgba(0, 0, 0, 0.15);\n",
              "      filter: drop-shadow(0px 1px 2px rgba(0, 0, 0, 0.3));\n",
              "      fill: #FFFFFF;\n",
              "    }\n",
              "  </style>\n",
              "\n",
              "      <script>\n",
              "        const buttonEl =\n",
              "          document.querySelector('#df-af9c1e67-fb44-4809-bb28-3183d6fd2470 button.colab-df-convert');\n",
              "        buttonEl.style.display =\n",
              "          google.colab.kernel.accessAllowed ? 'block' : 'none';\n",
              "\n",
              "        async function convertToInteractive(key) {\n",
              "          const element = document.querySelector('#df-af9c1e67-fb44-4809-bb28-3183d6fd2470');\n",
              "          const dataTable =\n",
              "            await google.colab.kernel.invokeFunction('convertToInteractive',\n",
              "                                                     [key], {});\n",
              "          if (!dataTable) return;\n",
              "\n",
              "          const docLinkHtml = 'Like what you see? Visit the ' +\n",
              "            '<a target=\"_blank\" href=https://colab.research.google.com/notebooks/data_table.ipynb>data table notebook</a>'\n",
              "            + ' to learn more about interactive tables.';\n",
              "          element.innerHTML = '';\n",
              "          dataTable['output_type'] = 'display_data';\n",
              "          await google.colab.output.renderOutput(dataTable, element);\n",
              "          const docLink = document.createElement('div');\n",
              "          docLink.innerHTML = docLinkHtml;\n",
              "          element.appendChild(docLink);\n",
              "        }\n",
              "      </script>\n",
              "    </div>\n",
              "  </div>\n",
              "  "
            ]
          },
          "metadata": {},
          "execution_count": 62
        }
      ]
    },
    {
      "cell_type": "markdown",
      "source": [
        "**Read the saved CSV file from previous data preprocessing**"
      ],
      "metadata": {
        "id": "-PrEk1WmdhVq"
      }
    },
    {
      "cell_type": "code",
      "source": [
        "previous_data = pd.read_csv('/content/drive/MyDrive/Dataset/data.csv')"
      ],
      "metadata": {
        "id": "iSyUrqnadRoS"
      },
      "execution_count": null,
      "outputs": []
    },
    {
      "cell_type": "code",
      "source": [
        "previous_data.head(5)"
      ],
      "metadata": {
        "colab": {
          "base_uri": "https://localhost:8080/",
          "height": 206
        },
        "id": "qZ5rCqR8huPJ",
        "outputId": "cef7e8f8-c7f3-4b6e-b285-b00d2070c83c"
      },
      "execution_count": null,
      "outputs": [
        {
          "output_type": "execute_result",
          "data": {
            "text/plain": [
              "       director_name     actor_1_name      actor_2_name          actor_3_name  \\\n",
              "0      James Cameron      CCH Pounder  Joel David Moore             Wes Studi   \n",
              "1     Gore Verbinski      Johnny Depp     Orlando Bloom        Jack Davenport   \n",
              "2         Sam Mendes  Christoph Waltz      Rory Kinnear      Stephanie Sigman   \n",
              "3  Christopher Nolan        Tom Hardy    Christian Bale  Joseph Gordon-Levitt   \n",
              "4        Doug Walker      Doug Walker        Rob Walker                   NaN   \n",
              "\n",
              "                            genres  \\\n",
              "0  Action Adventure Fantasy Sci-Fi   \n",
              "1         Action Adventure Fantasy   \n",
              "2        Action Adventure Thriller   \n",
              "3                  Action Thriller   \n",
              "4                      Documentary   \n",
              "\n",
              "                                              movie_title  \n",
              "0                                                  avatar  \n",
              "1                pirates of the caribbean: at world's end  \n",
              "2                                                 spectre  \n",
              "3                                   the dark knight rises  \n",
              "4  star wars: episode vii - the force awakens              "
            ],
            "text/html": [
              "\n",
              "  <div id=\"df-ccb4997d-190e-4e97-b890-940dda391393\">\n",
              "    <div class=\"colab-df-container\">\n",
              "      <div>\n",
              "<style scoped>\n",
              "    .dataframe tbody tr th:only-of-type {\n",
              "        vertical-align: middle;\n",
              "    }\n",
              "\n",
              "    .dataframe tbody tr th {\n",
              "        vertical-align: top;\n",
              "    }\n",
              "\n",
              "    .dataframe thead th {\n",
              "        text-align: right;\n",
              "    }\n",
              "</style>\n",
              "<table border=\"1\" class=\"dataframe\">\n",
              "  <thead>\n",
              "    <tr style=\"text-align: right;\">\n",
              "      <th></th>\n",
              "      <th>director_name</th>\n",
              "      <th>actor_1_name</th>\n",
              "      <th>actor_2_name</th>\n",
              "      <th>actor_3_name</th>\n",
              "      <th>genres</th>\n",
              "      <th>movie_title</th>\n",
              "    </tr>\n",
              "  </thead>\n",
              "  <tbody>\n",
              "    <tr>\n",
              "      <th>0</th>\n",
              "      <td>James Cameron</td>\n",
              "      <td>CCH Pounder</td>\n",
              "      <td>Joel David Moore</td>\n",
              "      <td>Wes Studi</td>\n",
              "      <td>Action Adventure Fantasy Sci-Fi</td>\n",
              "      <td>avatar</td>\n",
              "    </tr>\n",
              "    <tr>\n",
              "      <th>1</th>\n",
              "      <td>Gore Verbinski</td>\n",
              "      <td>Johnny Depp</td>\n",
              "      <td>Orlando Bloom</td>\n",
              "      <td>Jack Davenport</td>\n",
              "      <td>Action Adventure Fantasy</td>\n",
              "      <td>pirates of the caribbean: at world's end</td>\n",
              "    </tr>\n",
              "    <tr>\n",
              "      <th>2</th>\n",
              "      <td>Sam Mendes</td>\n",
              "      <td>Christoph Waltz</td>\n",
              "      <td>Rory Kinnear</td>\n",
              "      <td>Stephanie Sigman</td>\n",
              "      <td>Action Adventure Thriller</td>\n",
              "      <td>spectre</td>\n",
              "    </tr>\n",
              "    <tr>\n",
              "      <th>3</th>\n",
              "      <td>Christopher Nolan</td>\n",
              "      <td>Tom Hardy</td>\n",
              "      <td>Christian Bale</td>\n",
              "      <td>Joseph Gordon-Levitt</td>\n",
              "      <td>Action Thriller</td>\n",
              "      <td>the dark knight rises</td>\n",
              "    </tr>\n",
              "    <tr>\n",
              "      <th>4</th>\n",
              "      <td>Doug Walker</td>\n",
              "      <td>Doug Walker</td>\n",
              "      <td>Rob Walker</td>\n",
              "      <td>NaN</td>\n",
              "      <td>Documentary</td>\n",
              "      <td>star wars: episode vii - the force awakens</td>\n",
              "    </tr>\n",
              "  </tbody>\n",
              "</table>\n",
              "</div>\n",
              "      <button class=\"colab-df-convert\" onclick=\"convertToInteractive('df-ccb4997d-190e-4e97-b890-940dda391393')\"\n",
              "              title=\"Convert this dataframe to an interactive table.\"\n",
              "              style=\"display:none;\">\n",
              "        \n",
              "  <svg xmlns=\"http://www.w3.org/2000/svg\" height=\"24px\"viewBox=\"0 0 24 24\"\n",
              "       width=\"24px\">\n",
              "    <path d=\"M0 0h24v24H0V0z\" fill=\"none\"/>\n",
              "    <path d=\"M18.56 5.44l.94 2.06.94-2.06 2.06-.94-2.06-.94-.94-2.06-.94 2.06-2.06.94zm-11 1L8.5 8.5l.94-2.06 2.06-.94-2.06-.94L8.5 2.5l-.94 2.06-2.06.94zm10 10l.94 2.06.94-2.06 2.06-.94-2.06-.94-.94-2.06-.94 2.06-2.06.94z\"/><path d=\"M17.41 7.96l-1.37-1.37c-.4-.4-.92-.59-1.43-.59-.52 0-1.04.2-1.43.59L10.3 9.45l-7.72 7.72c-.78.78-.78 2.05 0 2.83L4 21.41c.39.39.9.59 1.41.59.51 0 1.02-.2 1.41-.59l7.78-7.78 2.81-2.81c.8-.78.8-2.07 0-2.86zM5.41 20L4 18.59l7.72-7.72 1.47 1.35L5.41 20z\"/>\n",
              "  </svg>\n",
              "      </button>\n",
              "      \n",
              "  <style>\n",
              "    .colab-df-container {\n",
              "      display:flex;\n",
              "      flex-wrap:wrap;\n",
              "      gap: 12px;\n",
              "    }\n",
              "\n",
              "    .colab-df-convert {\n",
              "      background-color: #E8F0FE;\n",
              "      border: none;\n",
              "      border-radius: 50%;\n",
              "      cursor: pointer;\n",
              "      display: none;\n",
              "      fill: #1967D2;\n",
              "      height: 32px;\n",
              "      padding: 0 0 0 0;\n",
              "      width: 32px;\n",
              "    }\n",
              "\n",
              "    .colab-df-convert:hover {\n",
              "      background-color: #E2EBFA;\n",
              "      box-shadow: 0px 1px 2px rgba(60, 64, 67, 0.3), 0px 1px 3px 1px rgba(60, 64, 67, 0.15);\n",
              "      fill: #174EA6;\n",
              "    }\n",
              "\n",
              "    [theme=dark] .colab-df-convert {\n",
              "      background-color: #3B4455;\n",
              "      fill: #D2E3FC;\n",
              "    }\n",
              "\n",
              "    [theme=dark] .colab-df-convert:hover {\n",
              "      background-color: #434B5C;\n",
              "      box-shadow: 0px 1px 3px 1px rgba(0, 0, 0, 0.15);\n",
              "      filter: drop-shadow(0px 1px 2px rgba(0, 0, 0, 0.3));\n",
              "      fill: #FFFFFF;\n",
              "    }\n",
              "  </style>\n",
              "\n",
              "      <script>\n",
              "        const buttonEl =\n",
              "          document.querySelector('#df-ccb4997d-190e-4e97-b890-940dda391393 button.colab-df-convert');\n",
              "        buttonEl.style.display =\n",
              "          google.colab.kernel.accessAllowed ? 'block' : 'none';\n",
              "\n",
              "        async function convertToInteractive(key) {\n",
              "          const element = document.querySelector('#df-ccb4997d-190e-4e97-b890-940dda391393');\n",
              "          const dataTable =\n",
              "            await google.colab.kernel.invokeFunction('convertToInteractive',\n",
              "                                                     [key], {});\n",
              "          if (!dataTable) return;\n",
              "\n",
              "          const docLinkHtml = 'Like what you see? Visit the ' +\n",
              "            '<a target=\"_blank\" href=https://colab.research.google.com/notebooks/data_table.ipynb>data table notebook</a>'\n",
              "            + ' to learn more about interactive tables.';\n",
              "          element.innerHTML = '';\n",
              "          dataTable['output_type'] = 'display_data';\n",
              "          await google.colab.output.renderOutput(dataTable, element);\n",
              "          const docLink = document.createElement('div');\n",
              "          docLink.innerHTML = docLinkHtml;\n",
              "          element.appendChild(docLink);\n",
              "        }\n",
              "      </script>\n",
              "    </div>\n",
              "  </div>\n",
              "  "
            ]
          },
          "metadata": {},
          "execution_count": 65
        }
      ]
    },
    {
      "cell_type": "markdown",
      "source": [
        "**Create a new column where all the data of all coloumns will be combined**"
      ],
      "metadata": {
        "id": "aGox1Y0lh1T_"
      }
    },
    {
      "cell_type": "code",
      "source": [
        "previous_data['combined'] = previous_data['actor_1_name'] + ' ' + previous_data['actor_2_name'] + ' '+ previous_data['actor_3_name'] + ' '+ previous_data['director_name'] +' ' + previous_data['genres']"
      ],
      "metadata": {
        "id": "pH8SDavsh1gM"
      },
      "execution_count": null,
      "outputs": []
    },
    {
      "cell_type": "code",
      "source": [
        "previous_data.head(5)"
      ],
      "metadata": {
        "colab": {
          "base_uri": "https://localhost:8080/",
          "height": 493
        },
        "id": "vrlOw35liFcB",
        "outputId": "9ea10d41-7f0a-4de9-f05b-0a9bbe9b6c57"
      },
      "execution_count": null,
      "outputs": [
        {
          "output_type": "execute_result",
          "data": {
            "text/plain": [
              "       director_name     actor_1_name      actor_2_name          actor_3_name  \\\n",
              "0      James Cameron      CCH Pounder  Joel David Moore             Wes Studi   \n",
              "1     Gore Verbinski      Johnny Depp     Orlando Bloom        Jack Davenport   \n",
              "2         Sam Mendes  Christoph Waltz      Rory Kinnear      Stephanie Sigman   \n",
              "3  Christopher Nolan        Tom Hardy    Christian Bale  Joseph Gordon-Levitt   \n",
              "4        Doug Walker      Doug Walker        Rob Walker                   NaN   \n",
              "\n",
              "                            genres  \\\n",
              "0  Action Adventure Fantasy Sci-Fi   \n",
              "1         Action Adventure Fantasy   \n",
              "2        Action Adventure Thriller   \n",
              "3                  Action Thriller   \n",
              "4                      Documentary   \n",
              "\n",
              "                                              movie_title  \\\n",
              "0                                                  avatar   \n",
              "1                pirates of the caribbean: at world's end   \n",
              "2                                                 spectre   \n",
              "3                                   the dark knight rises   \n",
              "4  star wars: episode vii - the force awakens               \n",
              "\n",
              "                                                                              comb  \\\n",
              "0  CCH Pounder Joel David Moore Wes Studi James Cameron Action Adventure Fantas...   \n",
              "1  Johnny Depp Orlando Bloom Jack Davenport Gore Verbinski Action Adventure Fan...   \n",
              "2  Christoph Waltz Rory Kinnear Stephanie Sigman Sam Mendes Action Adventure Th...   \n",
              "3  Tom Hardy Christian Bale Joseph Gordon-Levitt Christopher Nolan Action Thriller   \n",
              "4                                                                              NaN   \n",
              "\n",
              "                                                                          combined  \n",
              "0  CCH Pounder Joel David Moore Wes Studi James Cameron Action Adventure Fantas...  \n",
              "1  Johnny Depp Orlando Bloom Jack Davenport Gore Verbinski Action Adventure Fan...  \n",
              "2  Christoph Waltz Rory Kinnear Stephanie Sigman Sam Mendes Action Adventure Th...  \n",
              "3  Tom Hardy Christian Bale Joseph Gordon-Levitt Christopher Nolan Action Thriller  \n",
              "4                                                                              NaN  "
            ],
            "text/html": [
              "\n",
              "  <div id=\"df-1f09a668-5809-4173-8068-9961fd9b1023\">\n",
              "    <div class=\"colab-df-container\">\n",
              "      <div>\n",
              "<style scoped>\n",
              "    .dataframe tbody tr th:only-of-type {\n",
              "        vertical-align: middle;\n",
              "    }\n",
              "\n",
              "    .dataframe tbody tr th {\n",
              "        vertical-align: top;\n",
              "    }\n",
              "\n",
              "    .dataframe thead th {\n",
              "        text-align: right;\n",
              "    }\n",
              "</style>\n",
              "<table border=\"1\" class=\"dataframe\">\n",
              "  <thead>\n",
              "    <tr style=\"text-align: right;\">\n",
              "      <th></th>\n",
              "      <th>director_name</th>\n",
              "      <th>actor_1_name</th>\n",
              "      <th>actor_2_name</th>\n",
              "      <th>actor_3_name</th>\n",
              "      <th>genres</th>\n",
              "      <th>movie_title</th>\n",
              "      <th>comb</th>\n",
              "      <th>combined</th>\n",
              "    </tr>\n",
              "  </thead>\n",
              "  <tbody>\n",
              "    <tr>\n",
              "      <th>0</th>\n",
              "      <td>James Cameron</td>\n",
              "      <td>CCH Pounder</td>\n",
              "      <td>Joel David Moore</td>\n",
              "      <td>Wes Studi</td>\n",
              "      <td>Action Adventure Fantasy Sci-Fi</td>\n",
              "      <td>avatar</td>\n",
              "      <td>CCH Pounder Joel David Moore Wes Studi James Cameron Action Adventure Fantas...</td>\n",
              "      <td>CCH Pounder Joel David Moore Wes Studi James Cameron Action Adventure Fantas...</td>\n",
              "    </tr>\n",
              "    <tr>\n",
              "      <th>1</th>\n",
              "      <td>Gore Verbinski</td>\n",
              "      <td>Johnny Depp</td>\n",
              "      <td>Orlando Bloom</td>\n",
              "      <td>Jack Davenport</td>\n",
              "      <td>Action Adventure Fantasy</td>\n",
              "      <td>pirates of the caribbean: at world's end</td>\n",
              "      <td>Johnny Depp Orlando Bloom Jack Davenport Gore Verbinski Action Adventure Fan...</td>\n",
              "      <td>Johnny Depp Orlando Bloom Jack Davenport Gore Verbinski Action Adventure Fan...</td>\n",
              "    </tr>\n",
              "    <tr>\n",
              "      <th>2</th>\n",
              "      <td>Sam Mendes</td>\n",
              "      <td>Christoph Waltz</td>\n",
              "      <td>Rory Kinnear</td>\n",
              "      <td>Stephanie Sigman</td>\n",
              "      <td>Action Adventure Thriller</td>\n",
              "      <td>spectre</td>\n",
              "      <td>Christoph Waltz Rory Kinnear Stephanie Sigman Sam Mendes Action Adventure Th...</td>\n",
              "      <td>Christoph Waltz Rory Kinnear Stephanie Sigman Sam Mendes Action Adventure Th...</td>\n",
              "    </tr>\n",
              "    <tr>\n",
              "      <th>3</th>\n",
              "      <td>Christopher Nolan</td>\n",
              "      <td>Tom Hardy</td>\n",
              "      <td>Christian Bale</td>\n",
              "      <td>Joseph Gordon-Levitt</td>\n",
              "      <td>Action Thriller</td>\n",
              "      <td>the dark knight rises</td>\n",
              "      <td>Tom Hardy Christian Bale Joseph Gordon-Levitt Christopher Nolan Action Thriller</td>\n",
              "      <td>Tom Hardy Christian Bale Joseph Gordon-Levitt Christopher Nolan Action Thriller</td>\n",
              "    </tr>\n",
              "    <tr>\n",
              "      <th>4</th>\n",
              "      <td>Doug Walker</td>\n",
              "      <td>Doug Walker</td>\n",
              "      <td>Rob Walker</td>\n",
              "      <td>NaN</td>\n",
              "      <td>Documentary</td>\n",
              "      <td>star wars: episode vii - the force awakens</td>\n",
              "      <td>NaN</td>\n",
              "      <td>NaN</td>\n",
              "    </tr>\n",
              "  </tbody>\n",
              "</table>\n",
              "</div>\n",
              "      <button class=\"colab-df-convert\" onclick=\"convertToInteractive('df-1f09a668-5809-4173-8068-9961fd9b1023')\"\n",
              "              title=\"Convert this dataframe to an interactive table.\"\n",
              "              style=\"display:none;\">\n",
              "        \n",
              "  <svg xmlns=\"http://www.w3.org/2000/svg\" height=\"24px\"viewBox=\"0 0 24 24\"\n",
              "       width=\"24px\">\n",
              "    <path d=\"M0 0h24v24H0V0z\" fill=\"none\"/>\n",
              "    <path d=\"M18.56 5.44l.94 2.06.94-2.06 2.06-.94-2.06-.94-.94-2.06-.94 2.06-2.06.94zm-11 1L8.5 8.5l.94-2.06 2.06-.94-2.06-.94L8.5 2.5l-.94 2.06-2.06.94zm10 10l.94 2.06.94-2.06 2.06-.94-2.06-.94-.94-2.06-.94 2.06-2.06.94z\"/><path d=\"M17.41 7.96l-1.37-1.37c-.4-.4-.92-.59-1.43-.59-.52 0-1.04.2-1.43.59L10.3 9.45l-7.72 7.72c-.78.78-.78 2.05 0 2.83L4 21.41c.39.39.9.59 1.41.59.51 0 1.02-.2 1.41-.59l7.78-7.78 2.81-2.81c.8-.78.8-2.07 0-2.86zM5.41 20L4 18.59l7.72-7.72 1.47 1.35L5.41 20z\"/>\n",
              "  </svg>\n",
              "      </button>\n",
              "      \n",
              "  <style>\n",
              "    .colab-df-container {\n",
              "      display:flex;\n",
              "      flex-wrap:wrap;\n",
              "      gap: 12px;\n",
              "    }\n",
              "\n",
              "    .colab-df-convert {\n",
              "      background-color: #E8F0FE;\n",
              "      border: none;\n",
              "      border-radius: 50%;\n",
              "      cursor: pointer;\n",
              "      display: none;\n",
              "      fill: #1967D2;\n",
              "      height: 32px;\n",
              "      padding: 0 0 0 0;\n",
              "      width: 32px;\n",
              "    }\n",
              "\n",
              "    .colab-df-convert:hover {\n",
              "      background-color: #E2EBFA;\n",
              "      box-shadow: 0px 1px 2px rgba(60, 64, 67, 0.3), 0px 1px 3px 1px rgba(60, 64, 67, 0.15);\n",
              "      fill: #174EA6;\n",
              "    }\n",
              "\n",
              "    [theme=dark] .colab-df-convert {\n",
              "      background-color: #3B4455;\n",
              "      fill: #D2E3FC;\n",
              "    }\n",
              "\n",
              "    [theme=dark] .colab-df-convert:hover {\n",
              "      background-color: #434B5C;\n",
              "      box-shadow: 0px 1px 3px 1px rgba(0, 0, 0, 0.15);\n",
              "      filter: drop-shadow(0px 1px 2px rgba(0, 0, 0, 0.3));\n",
              "      fill: #FFFFFF;\n",
              "    }\n",
              "  </style>\n",
              "\n",
              "      <script>\n",
              "        const buttonEl =\n",
              "          document.querySelector('#df-1f09a668-5809-4173-8068-9961fd9b1023 button.colab-df-convert');\n",
              "        buttonEl.style.display =\n",
              "          google.colab.kernel.accessAllowed ? 'block' : 'none';\n",
              "\n",
              "        async function convertToInteractive(key) {\n",
              "          const element = document.querySelector('#df-1f09a668-5809-4173-8068-9961fd9b1023');\n",
              "          const dataTable =\n",
              "            await google.colab.kernel.invokeFunction('convertToInteractive',\n",
              "                                                     [key], {});\n",
              "          if (!dataTable) return;\n",
              "\n",
              "          const docLinkHtml = 'Like what you see? Visit the ' +\n",
              "            '<a target=\"_blank\" href=https://colab.research.google.com/notebooks/data_table.ipynb>data table notebook</a>'\n",
              "            + ' to learn more about interactive tables.';\n",
              "          element.innerHTML = '';\n",
              "          dataTable['output_type'] = 'display_data';\n",
              "          await google.colab.output.renderOutput(dataTable, element);\n",
              "          const docLink = document.createElement('div');\n",
              "          docLink.innerHTML = docLinkHtml;\n",
              "          element.appendChild(docLink);\n",
              "        }\n",
              "      </script>\n",
              "    </div>\n",
              "  </div>\n",
              "  "
            ]
          },
          "metadata": {},
          "execution_count": 70
        }
      ]
    },
    {
      "cell_type": "markdown",
      "source": [
        "**Merging the recent data with the old one**"
      ],
      "metadata": {
        "id": "40SLPyCFjRtt"
      }
    },
    {
      "cell_type": "code",
      "source": [
        "New_data=previous_data.append(movie)"
      ],
      "metadata": {
        "id": "JU0FBTzKjR91"
      },
      "execution_count": null,
      "outputs": []
    },
    {
      "cell_type": "markdown",
      "source": [
        "**Deletes the duplicate data**"
      ],
      "metadata": {
        "id": "lz2V5j5FjnNU"
      }
    },
    {
      "cell_type": "code",
      "source": [
        "New_data.drop_duplicates(subset =\"movie_title\", keep = 'last', inplace = True)"
      ],
      "metadata": {
        "id": "HUZVFd6hjna_"
      },
      "execution_count": null,
      "outputs": []
    },
    {
      "cell_type": "markdown",
      "source": [
        "**All the combined data is saved to a new CSV file**"
      ],
      "metadata": {
        "id": "pxx3nU4ym2Fk"
      }
    },
    {
      "cell_type": "code",
      "source": [
        "New_data.to_csv('/content/drive/MyDrive/Dataset/new_data.csv',index=False)"
      ],
      "metadata": {
        "id": "S1sC7BELms-u"
      },
      "execution_count": null,
      "outputs": []
    }
  ]
}